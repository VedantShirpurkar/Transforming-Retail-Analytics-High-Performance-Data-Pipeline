{
 "cells": [
  {
   "cell_type": "code",
   "execution_count": 0,
   "metadata": {
    "application/vnd.databricks.v1+cell": {
     "cellMetadata": {
      "byteLimit": 2048000,
      "rowLimit": 10000
     },
     "inputWidgets": {},
     "nuid": "596e1269-ad9b-4299-a6b3-f0cd7a83ed91",
     "showTitle": false,
     "tableResultSettingsMap": {},
     "title": ""
    }
   },
   "outputs": [
    {
     "output_type": "execute_result",
     "data": {
      "text/html": [
       "\n",
       "            <div>\n",
       "                <p><b>SparkSession - hive</b></p>\n",
       "                \n",
       "        <div>\n",
       "            <p><b>SparkContext</b></p>\n",
       "\n",
       "            <p><a href=\"/?o=2537681457568645#setting/sparkui/0322-180214-7xeo7jxv/driver-337350364330065014\">Spark UI</a></p>\n",
       "\n",
       "            <dl>\n",
       "              <dt>Version</dt>\n",
       "                <dd><code>v3.5.0</code></dd>\n",
       "              <dt>Master</dt>\n",
       "                <dd><code>local[*, 4]</code></dd>\n",
       "              <dt>AppName</dt>\n",
       "                <dd><code>Databricks Shell</code></dd>\n",
       "            </dl>\n",
       "        </div>\n",
       "        \n",
       "            </div>\n",
       "        "
      ],
      "text/plain": [
       "<pyspark.sql.session.SparkSession at 0x7f5e54353f10>"
      ]
     },
     "execution_count": 1,
     "metadata": {},
     "output_type": "execute_result"
    }
   ],
   "source": [
    "spark"
   ]
  },
  {
   "cell_type": "code",
   "execution_count": 0,
   "metadata": {
    "application/vnd.databricks.v1+cell": {
     "cellMetadata": {
      "byteLimit": 2048000,
      "rowLimit": 10000
     },
     "inputWidgets": {},
     "nuid": "96c4662a-62ae-4e81-88a8-ee0529b404e9",
     "showTitle": false,
     "tableResultSettingsMap": {},
     "title": ""
    }
   },
   "outputs": [],
   "source": [
    "import re\n",
    "import pandas as pd\n",
    "import numpy as np"
   ]
  },
  {
   "cell_type": "code",
   "execution_count": 0,
   "metadata": {
    "application/vnd.databricks.v1+cell": {
     "cellMetadata": {
      "byteLimit": 2048000,
      "rowLimit": 10000
     },
     "inputWidgets": {},
     "nuid": "0e4ff3d3-4899-4e12-88a8-5515c6572638",
     "showTitle": false,
     "tableResultSettingsMap": {},
     "title": ""
    }
   },
   "outputs": [
    {
     "output_type": "stream",
     "name": "stdout",
     "output_type": "stream",
     "text": [
      "Attempting to connect to storage...\nConnection successful!\nFound 6 items\n"
     ]
    },
    {
     "output_type": "display_data",
     "data": {
      "text/html": [
       "<style scoped>\n",
       "  .table-result-container {\n",
       "    max-height: 300px;\n",
       "    overflow: auto;\n",
       "  }\n",
       "  table, th, td {\n",
       "    border: 1px solid black;\n",
       "    border-collapse: collapse;\n",
       "  }\n",
       "  th, td {\n",
       "    padding: 5px;\n",
       "  }\n",
       "  th {\n",
       "    text-align: left;\n",
       "  }\n",
       "</style><div class='table-result-container'><table class='table-result'><thead style='background-color: white'><tr><th>path</th><th>name</th><th>size</th><th>modificationTime</th></tr></thead><tbody><tr><td>abfss://rawdatav1@retailstoragev1.dfs.core.windows.net/customers.csv</td><td>customers.csv</td><td>216754731</td><td>1742448678000</td></tr><tr><td>abfss://rawdatav1@retailstoragev1.dfs.core.windows.net/discounts.csv</td><td>discounts.csv</td><td>18275</td><td>1742439834000</td></tr><tr><td>abfss://rawdatav1@retailstoragev1.dfs.core.windows.net/employees.csv</td><td>employees.csv</td><td>15165</td><td>1742439834000</td></tr><tr><td>abfss://rawdatav1@retailstoragev1.dfs.core.windows.net/products.csv</td><td>products.csv</td><td>22028532</td><td>1742448708000</td></tr><tr><td>abfss://rawdatav1@retailstoragev1.dfs.core.windows.net/stores.csv</td><td>stores.csv</td><td>3105</td><td>1742448725000</td></tr><tr><td>abfss://rawdatav1@retailstoragev1.dfs.core.windows.net/transactions.csv</td><td>transactions.csv</td><td>805152362</td><td>1742440147000</td></tr></tbody></table></div>"
      ]
     },
     "metadata": {
      "application/vnd.databricks.v1+output": {
       "addedWidgets": {},
       "aggData": [],
       "aggError": "",
       "aggOverflow": false,
       "aggSchema": [],
       "aggSeriesLimitReached": false,
       "aggType": "",
       "arguments": {},
       "columnCustomDisplayInfos": {},
       "data": [
        [
         "abfss://rawdatav1@retailstoragev1.dfs.core.windows.net/customers.csv",
         "customers.csv",
         216754731,
         1742448678000
        ],
        [
         "abfss://rawdatav1@retailstoragev1.dfs.core.windows.net/discounts.csv",
         "discounts.csv",
         18275,
         1742439834000
        ],
        [
         "abfss://rawdatav1@retailstoragev1.dfs.core.windows.net/employees.csv",
         "employees.csv",
         15165,
         1742439834000
        ],
        [
         "abfss://rawdatav1@retailstoragev1.dfs.core.windows.net/products.csv",
         "products.csv",
         22028532,
         1742448708000
        ],
        [
         "abfss://rawdatav1@retailstoragev1.dfs.core.windows.net/stores.csv",
         "stores.csv",
         3105,
         1742448725000
        ],
        [
         "abfss://rawdatav1@retailstoragev1.dfs.core.windows.net/transactions.csv",
         "transactions.csv",
         805152362,
         1742440147000
        ]
       ],
       "datasetInfos": [],
       "dbfsResultPath": null,
       "isJsonSchema": true,
       "metadata": {},
       "overflow": false,
       "plotOptions": {
        "customPlotOptions": {},
        "displayType": "table",
        "pivotAggregation": null,
        "pivotColumns": null,
        "xColumns": null,
        "yColumns": null
       },
       "removedWidgets": [],
       "schema": [
        {
         "metadata": "{}",
         "name": "path",
         "type": "\"string\""
        },
        {
         "metadata": "{}",
         "name": "name",
         "type": "\"string\""
        },
        {
         "metadata": "{}",
         "name": "size",
         "type": "\"long\""
        },
        {
         "metadata": "{}",
         "name": "modificationTime",
         "type": "\"long\""
        }
       ],
       "type": "table"
      }
     },
     "output_type": "display_data"
    },
    {
     "output_type": "stream",
     "name": "stdout",
     "output_type": "stream",
     "text": [
      "Code execution completed\n"
     ]
    }
   ],
   "source": [
    "# Make sure there are no extra spaces or characters in your key\n",
    "storage_account_name = \"retailstoragev1\"\n",
    "container_name = \"rawdatav1\"\n",
    "storage_account_key = \"PhgCS7e6Sis0d8hNKmiChdVoCUB+zyzJsZyfitbldYuGl2gbe0WnHU/s9avvn74sZOuwBVaBsZ64+AStORDGQw==\"  # Replace with your actual key\n",
    "\n",
    "# Clear any previous configurations (important!)\n",
    "spark.conf.unset(f\"fs.azure.account.auth.type.{storage_account_name}.dfs.core.windows.net\")\n",
    "spark.conf.unset(f\"fs.azure.account.oauth.provider.type.{storage_account_name}.dfs.core.windows.net\")\n",
    "spark.conf.unset(f\"fs.azure.account.oauth2.client.id.{storage_account_name}.dfs.core.windows.net\")\n",
    "\n",
    "# Set the key configuration\n",
    "spark.conf.set(f\"fs.azure.account.key.{storage_account_name}.dfs.core.windows.net\", storage_account_key)\n",
    "\n",
    "# Try accessing with explicit print statements\n",
    "print(\"Attempting to connect to storage...\")\n",
    "\n",
    "try:\n",
    "    result = dbutils.fs.ls(f\"abfss://{container_name}@{storage_account_name}.dfs.core.windows.net/\")\n",
    "    print(\"Connection successful!\")\n",
    "    print(f\"Found {len(result)} items\")\n",
    "    display(result)\n",
    "except Exception as e:\n",
    "    print(f\"Error occurred: {str(e)}\")\n",
    "    \n",
    "print(\"Code execution completed\")"
   ]
  },
  {
   "cell_type": "code",
   "execution_count": 0,
   "metadata": {
    "application/vnd.databricks.v1+cell": {
     "cellMetadata": {
      "byteLimit": 2048000,
      "rowLimit": 10000
     },
     "inputWidgets": {},
     "nuid": "77428a21-1910-4147-862f-4cd7542465e6",
     "showTitle": false,
     "tableResultSettingsMap": {},
     "title": ""
    }
   },
   "outputs": [
    {
     "output_type": "stream",
     "name": "stdout",
     "output_type": "stream",
     "text": [
      "+-----------+--------------------+--------------------+--------------------+--------+-------------+------+-------------+--------------------+\n|Customer ID|                Name|               Email|           Telephone|    City|      Country|Gender|Date Of Birth|           Job Title|\n+-----------+--------------------+--------------------+--------------------+--------+-------------+------+-------------+--------------------+\n|          1|        Tyler Garcia|tyler.garcia@fake...|  922.970.2265x47563|New York|United States|     M|   2003-07-15|                NULL|\n|          2|       Joshua Miller|joshua.miller@fak...|     +1-958-729-6169|New York|United States|     M|   2000-06-16|     Records manager|\n|          3| Alison Marshall DDS|alison.marshall.d...|+1-645-567-0876x5409|New York|United States|     F|   2003-07-22|                NULL|\n|          4|      Jeffery Acosta|jeffery.acosta@fa...|  212.336.0912x84994|New York|United States|     M|   1996-11-12|         Proofreader|\n|          5|      Ashley Sanders|ashley.sanders@fa...|          7814535781|New York|United States|     F|   1998-02-10|Exercise physiolo...|\n|          6|       Steven Chavez|steven.chavez@fak...|        469.238.0828|New York|United States|     M|   1988-01-06|    Technical brewer|\n|          7|       Steven Snyder|steven.snyder@fak...|     +1-294-543-6438|New York|United States|     M|   2000-10-27|Agricultural engi...|\n|          8|         Paul Walker|paul.walker@fake_...|   205.335.5074x1759|New York|United States|     M|   2007-03-03|                NULL|\n|          9|        Edwin Bryant|edwin.bryant@fake...|+1-436-359-4105x4...|New York|United States|     M|   1999-07-19|Biochemist, clinical|\n|         10|       Michelle Bird|michelle.bird@fak...|+1-325-528-1530x0...|New York|United States|     F|   2003-03-03|                NULL|\n|         11|Natalie Espinoza DDS|natalie.espinoza....|    325-379-6960x933|New York|United States|     F|   1970-09-08|Public relations ...|\n|         12|        Autumn Green|autumn.green@fake...|  (841)850-4720x0041|New York|United States|     F|   2001-06-24|                NULL|\n|         13|  Jennifer Henderson|jennifer.henderso...|   (859)776-6705x615|New York|United States|     F|   1999-06-03|Engineer, control...|\n|         14|    Jennifer Pearson|jennifer.pearson@...|        354.559.8541|New York|United States|     F|   2006-06-23|                NULL|\n|         15|         Corey Lopez|corey.lopez@fake_...|          7359516571|New York|United States|     M|   2000-06-27|     Records manager|\n|         16|      Patrick Parker|patrick.parker@fa...|    420.510.1425x994|New York|United States|     M|   1999-12-10|        Psychiatrist|\n|         17|          Jason Wong|jason.wong@fake_y...|    925.672.7219x347|New York|United States|     M|   1977-09-17|     Legal secretary|\n|         18|      Jasmine Miller|jasmine.miller@fa...|          9492316332|New York|United States|     F|   2005-06-05|                NULL|\n|         19|      Regina Edwards|regina.edwards@fa...|   927-209-4313x3292|New York|United States|     F|   1995-01-23|      Pilot, airline|\n|         20|            Ann Hall|ann.hall@fake_hot...|        375.997.2367|New York|United States|     F|   2005-07-08|                NULL|\n+-----------+--------------------+--------------------+--------------------+--------+-------------+------+-------------+--------------------+\nonly showing top 20 rows\n\n"
     ]
    }
   ],
   "source": [
    "# Read the CSV file\n",
    "df = spark.read.format(\"csv\") \\\n",
    "    .option(\"header\", \"true\") \\\n",
    "    .option(\"inferSchema\", \"true\") \\\n",
    "    .load(\"abfss://rawdatav1@retailstoragev1.dfs.core.windows.net/customers.csv\")\n",
    "\n",
    "# Display the first few rows\n",
    "df.show()"
   ]
  },
  {
   "cell_type": "code",
   "execution_count": 0,
   "metadata": {
    "application/vnd.databricks.v1+cell": {
     "cellMetadata": {
      "byteLimit": 2048000,
      "rowLimit": 10000
     },
     "inputWidgets": {},
     "nuid": "d999ebb0-b9a0-4e1a-ab6a-ec0056290fd8",
     "showTitle": false,
     "tableResultSettingsMap": {},
     "title": ""
    }
   },
   "outputs": [
    {
     "output_type": "stream",
     "name": "stdout",
     "output_type": "stream",
     "text": [
      "root\n |-- Customer ID: integer (nullable = true)\n |-- Name: string (nullable = true)\n |-- Email: string (nullable = true)\n |-- Telephone: string (nullable = true)\n |-- City: string (nullable = true)\n |-- Country: string (nullable = true)\n |-- Gender: string (nullable = true)\n |-- Date Of Birth: date (nullable = true)\n |-- Job Title: string (nullable = true)\n\n"
     ]
    }
   ],
   "source": [
    "#print datatypes of columns\n",
    "df.printSchema()"
   ]
  },
  {
   "cell_type": "code",
   "execution_count": 0,
   "metadata": {
    "application/vnd.databricks.v1+cell": {
     "cellMetadata": {
      "byteLimit": 2048000,
      "rowLimit": 10000
     },
     "inputWidgets": {},
     "nuid": "5d94f59f-2da6-424f-ada1-ec394887c095",
     "showTitle": false,
     "tableResultSettingsMap": {},
     "title": ""
    }
   },
   "outputs": [
    {
     "output_type": "stream",
     "name": "stdout",
     "output_type": "stream",
     "text": [
      "DataFrame Shape: (1643306, 9)\n"
     ]
    }
   ],
   "source": [
    "# Get number of rows\n",
    "num_rows = df.count()\n",
    "\n",
    "# Get number of columns\n",
    "num_cols = len(df.columns)\n",
    "\n",
    "# Print the shape\n",
    "print(f\"DataFrame Shape: ({num_rows}, {num_cols})\")"
   ]
  },
  {
   "cell_type": "code",
   "execution_count": 0,
   "metadata": {
    "application/vnd.databricks.v1+cell": {
     "cellMetadata": {
      "byteLimit": 2048000,
      "rowLimit": 10000
     },
     "inputWidgets": {},
     "nuid": "852a0d4d-55c4-4896-9fd9-25b12b644b2d",
     "showTitle": false,
     "tableResultSettingsMap": {},
     "title": ""
    }
   },
   "outputs": [
    {
     "output_type": "stream",
     "name": "stdout",
     "output_type": "stream",
     "text": [
      "+--------------------+\n|           Telephone|\n+--------------------+\n|  922.970.2265x47563|\n|     +1-958-729-6169|\n|+1-645-567-0876x5409|\n|  212.336.0912x84994|\n|          7814535781|\n|        469.238.0828|\n|     +1-294-543-6438|\n|   205.335.5074x1759|\n|+1-436-359-4105x4...|\n|+1-325-528-1530x0...|\n|    325-379-6960x933|\n|  (841)850-4720x0041|\n|   (859)776-6705x615|\n|        354.559.8541|\n|          7359516571|\n|    420.510.1425x994|\n|    925.672.7219x347|\n|          9492316332|\n|   927-209-4313x3292|\n|        375.997.2367|\n+--------------------+\nonly showing top 20 rows\n\n"
     ]
    }
   ],
   "source": [
    "from pyspark.sql.functions import *\n",
    "#telephone column has lots of corrupt records\n",
    "df.select(col(\"Telephone\")).show()"
   ]
  },
  {
   "cell_type": "code",
   "execution_count": 0,
   "metadata": {
    "application/vnd.databricks.v1+cell": {
     "cellMetadata": {
      "byteLimit": 2048000,
      "rowLimit": 10000
     },
     "inputWidgets": {},
     "nuid": "35cdcc41-08d3-4c0f-ac16-48e770c5e3c9",
     "showTitle": false,
     "tableResultSettingsMap": {},
     "title": ""
    }
   },
   "outputs": [
    {
     "output_type": "stream",
     "name": "stdout",
     "output_type": "stream",
     "text": [
      "+--------------+\n|       Country|\n+--------------+\n| United States|\n|          中国|\n|   Deutschland|\n|United Kingdom|\n|        España|\n|        France|\n|      Portugal|\n+--------------+\n\n"
     ]
    }
   ],
   "source": [
    "#check all unique countries in dataframe\n",
    "df.select(col('Country')).distinct().show()"
   ]
  },
  {
   "cell_type": "code",
   "execution_count": 0,
   "metadata": {
    "application/vnd.databricks.v1+cell": {
     "cellMetadata": {
      "byteLimit": 2048000,
      "rowLimit": 10000
     },
     "inputWidgets": {},
     "nuid": "e46ae81c-2961-4ed3-93bb-936b897063da",
     "showTitle": false,
     "tableResultSettingsMap": {},
     "title": ""
    }
   },
   "outputs": [],
   "source": [
    "#we will create separate dataframes for customers from different countries \n",
    "customer_usa_df = df.filter(col('country') == 'United States')\n",
    "customer_deu_df = df.filter(col('country') == 'Deutschland')\n",
    "customer_uk_df = df.filter(col('country') == 'United Kingdom')\n",
    "customer_esp_df = df.filter(col('country') == 'España')\n",
    "customer_fra_df = df.filter(col('country') == 'France')\n",
    "customer_por_df = df.filter(col('country') == 'Portugal')\n",
    "customer_chn_df = df.filter(col('country') == '中国')"
   ]
  },
  {
   "cell_type": "code",
   "execution_count": 0,
   "metadata": {
    "application/vnd.databricks.v1+cell": {
     "cellMetadata": {
      "byteLimit": 2048000,
      "rowLimit": 10000
     },
     "inputWidgets": {},
     "nuid": "62b6e1a1-b892-4d50-bb8f-ef51b4f5c23f",
     "showTitle": false,
     "tableResultSettingsMap": {},
     "title": ""
    }
   },
   "outputs": [
    {
     "output_type": "stream",
     "name": "stdout",
     "output_type": "stream",
     "text": [
      "+--------------------+\n|           Telephone|\n+--------------------+\n|  922.970.2265x47563|\n|     +1-958-729-6169|\n|+1-645-567-0876x5409|\n|  212.336.0912x84994|\n|          7814535781|\n|        469.238.0828|\n|     +1-294-543-6438|\n|   205.335.5074x1759|\n|+1-436-359-4105x4...|\n|+1-325-528-1530x0...|\n|    325-379-6960x933|\n|  (841)850-4720x0041|\n|   (859)776-6705x615|\n|        354.559.8541|\n|          7359516571|\n|    420.510.1425x994|\n|    925.672.7219x347|\n|          9492316332|\n|   927-209-4313x3292|\n|        375.997.2367|\n+--------------------+\nonly showing top 20 rows\n\n"
     ]
    }
   ],
   "source": [
    "#lets process phone numbers country wise \n",
    "customer_usa_df.select(col('Telephone')).show()"
   ]
  },
  {
   "cell_type": "code",
   "execution_count": 0,
   "metadata": {
    "application/vnd.databricks.v1+cell": {
     "cellMetadata": {
      "byteLimit": 2048000,
      "rowLimit": 10000
     },
     "inputWidgets": {},
     "nuid": "ac9ea755-0794-4124-88f8-589e00ae71b8",
     "showTitle": false,
     "tableResultSettingsMap": {},
     "title": ""
    }
   },
   "outputs": [
    {
     "output_type": "stream",
     "name": "stdout",
     "output_type": "stream",
     "text": [
      "+-------------------+\n|          Telephone|\n+-------------------+\n|   +49(0) 015449951|\n|     (06626) 324077|\n|   +49(0)1912 85838|\n|+49 (0) 5531 612871|\n|   +49(0)6523 20192|\n|        02484053803|\n|      (09692) 62978|\n|         0275536574|\n|   +49(0) 031979972|\n|        07044 46172|\n|  +49(0)4249 396487|\n|     (04449) 731627|\n|   +49(0)2665951453|\n|        05468965668|\n|       04667 325668|\n|        01528570177|\n|      (06507) 29774|\n|   +49(0)7515 86564|\n|      (00201) 77533|\n|        01184 37536|\n+-------------------+\nonly showing top 20 rows\n\n"
     ]
    }
   ],
   "source": [
    "customer_deu_df.select(col(\"Telephone\")).show()"
   ]
  },
  {
   "cell_type": "code",
   "execution_count": 0,
   "metadata": {
    "application/vnd.databricks.v1+cell": {
     "cellMetadata": {
      "byteLimit": 2048000,
      "rowLimit": 10000
     },
     "inputWidgets": {},
     "nuid": "538b1d6e-a11b-4938-8402-19f5e0fd9857",
     "showTitle": false,
     "tableResultSettingsMap": {},
     "title": ""
    }
   },
   "outputs": [
    {
     "output_type": "stream",
     "name": "stdout",
     "output_type": "stream",
     "text": [
      "+-----------+--------------------+--------------------+----------+------+-----------+------+-------------+--------------------+\n|Customer ID|                Name|               Email| Telephone|  City|    Country|Gender|Date Of Birth|           Job Title|\n+-----------+--------------------+--------------------+----------+------+-----------+------+-------------+--------------------+\n|     694533|           Mina Ring|mina.ring@fake_ya...|9001544995|Berlin|Deutschland|     F|   1996-04-21|Therapist, speech...|\n|     694534|     Karl-Otto Butte|karl-otto.butte@f...|6626324077|Berlin|Deutschland|     M|   1995-02-12|Local government ...|\n|     694535|     Anatoli Reising|anatoli.reising@f...|9019128583|Berlin|Deutschland|     M|   1995-10-25|           Economist|\n|     694536|Frau Sofie Rose MBA.|frau.sofie.rose.m...|9055316128|Berlin|Deutschland|     F|   1983-09-01|      Teacher, music|\n|     694537|       Valeri Biggen|valeri.biggen@fak...|9065232019|Berlin|Deutschland|     F|   1981-06-22|          Bookseller|\n|     694538|  Christina Pergande|christina.pergand...|2484053803|Berlin|Deutschland|     F|   2003-08-29|                NULL|\n|     694539|Dr. Abbas Drubin ...|dr..abbas.drubin....|0969262978|Berlin|Deutschland|     M|   1998-12-18|Commissioning editor|\n|     694540|        Traude Bloch|traude.bloch@fake...|0275536574|Berlin|Deutschland|     F|   1980-08-19|Therapist, hortic...|\n|     694541|Marieluise Fliegn...|marieluise.fliegn...|9003197997|Berlin|Deutschland|     F|   2003-08-13|                NULL|\n|     694542|Prof. Christopher...|prof..christopher...|0704446172|Berlin|Deutschland|     M|   1991-02-24|          Astronomer|\n|     696428|          Ewa Reuter|ewa.reuter@fake_a...|9042493964|Berlin|Deutschland|     F|   2004-11-21|                NULL|\n|     694543|    Karl-Hans Sontag|karl-hans.sontag@...|4449731627|Berlin|Deutschland|     M|   1986-01-09|Insurance account...|\n|     694544|Dr. Czeslaw Junit...|dr..czeslaw.junit...|9026659514|Berlin|Deutschland|     M|   1989-05-04|Armed forces trai...|\n|     694545|          Nadja Karz|nadja.karz@fake_g...|5468965668|Berlin|Deutschland|     F|   1997-07-22|English as a seco...|\n|     694546|Univ.Prof. Klaas ...|univ.prof..klaas....|4667325668|Berlin|Deutschland|     M|   1988-07-16|Customer service ...|\n|     694547|       Linda Conradi|linda.conradi@fak...|1528570177|Berlin|Deutschland|     F|   1986-08-29|Commercial/reside...|\n|     694548|Univ.Prof. Hanns ...|univ.prof..hanns....|0650729774|Berlin|Deutschland|     M|   2005-10-10|                NULL|\n|     694549|Dr. Domenico Siering|dr..domenico.sier...|9075158656|Berlin|Deutschland|     M|   1987-04-22|Outdoor activitie...|\n|     694550|Prof. Valentin Ad...|prof..valentin.ad...|0020177533|Berlin|Deutschland|     M|   1983-05-31|Accountant, chart...|\n|     694551|         Enrico Döhn|enrico.döhn@fake_...|0118437536|Berlin|Deutschland|     M|   2000-05-25|Database administ...|\n+-----------+--------------------+--------------------+----------+------+-----------+------+-------------+--------------------+\nonly showing top 20 rows\n\n"
     ]
    }
   ],
   "source": [
    "def convert_to_number_format(phone_str):\n",
    "    if not phone_str:\n",
    "        return None\n",
    "        \n",
    "    # Remove all non-digit characters (spaces, dots, dashes, parentheses, extensions)\n",
    "    digits_only = re.sub(r'\\D', '', phone_str)\n",
    "    \n",
    "    # Handle US numbers with country code\n",
    "    if len(digits_only) == 11:\n",
    "        return digits_only[1:]  # Remove the leading '1'\n",
    "    \n",
    "    # Handle international format with +1\n",
    "    if len(digits_only) > 11:\n",
    "        # This might be a special case, return just the 10 digits after +1 if possible\n",
    "        return digits_only[1:11] if len(digits_only) >= 11 else None\n",
    "    \n",
    "    # If it's already 10 digits, return as is\n",
    "    if len(digits_only) == 10:\n",
    "        return digits_only\n",
    "    \n",
    "    # If the number doesn't conform to expected patterns, return None\n",
    "    return None\n",
    "# Register UDF\n",
    "number_format_udf = udf(convert_to_number_format, StringType())\n",
    "\n",
    "# Apply the number format conversion\n",
    "customer_deu_df = customer_deu_df.withColumn(\"Telephone\", number_format_udf(col(\"Telephone\")))\n",
    "\n",
    "# Show results\n",
    "customer_deu_df.show()\n"
   ]
  },
  {
   "cell_type": "code",
   "execution_count": 0,
   "metadata": {
    "application/vnd.databricks.v1+cell": {
     "cellMetadata": {
      "byteLimit": 2048000,
      "rowLimit": 10000
     },
     "inputWidgets": {},
     "nuid": "ace36b95-5cf8-4089-84b9-dfc99532165e",
     "showTitle": false,
     "tableResultSettingsMap": {},
     "title": ""
    }
   },
   "outputs": [],
   "source": [
    "#similarly apply transformation to numbers of other countries \n",
    "customer_fra_df = customer_fra_df.withColumn(\"Telephone\", number_format_udf(col(\"Telephone\")))\n",
    "customer_esp_df = customer_esp_df.withColumn(\"Telephone\", number_format_udf(col(\"Telephone\")))\n",
    "customer_chn_df = customer_chn_df.withColumn(\"Telephone\", number_format_udf(col(\"Telephone\")))\n",
    "customer_por_df = customer_por_df.withColumn(\"Telephone\", number_format_udf(col(\"Telephone\")))\n",
    "customer_uk_df = customer_uk_df.withColumn(\"Telephone\", number_format_udf(col(\"Telephone\")))\n",
    "\n",
    "\n"
   ]
  },
  {
   "cell_type": "code",
   "execution_count": 0,
   "metadata": {
    "application/vnd.databricks.v1+cell": {
     "cellMetadata": {
      "byteLimit": 2048000,
      "rowLimit": 10000
     },
     "inputWidgets": {},
     "nuid": "b6450034-3b80-473b-b8eb-ae47e4194aba",
     "showTitle": false,
     "tableResultSettingsMap": {},
     "title": ""
    }
   },
   "outputs": [],
   "source": [
    "#replace any missing value to 'Phone Number Unknown'\n",
    "customer_fra_df = customer_fra_df.withColumn('Telephone', when(customer_fra_df['Telephone'].isNull(), \"Phone Number Unknown\").otherwise(customer_fra_df['Telephone']))\n",
    "customer_esp_df = customer_esp_df.withColumn('Telephone', when(customer_esp_df['Telephone'].isNull(), \"Phone Number Unknown\").otherwise(customer_esp_df['Telephone']))\n",
    "customer_deu_df = customer_deu_df.withColumn('Telephone', when(customer_deu_df['Telephone'].isNull(), \"Phone Number Unknown\").otherwise(customer_deu_df['Telephone']))\n",
    "customer_chn_df = customer_chn_df.withColumn('Telephone', when(customer_chn_df['Telephone'].isNull(), \"Phone Number Unknown\").otherwise(customer_chn_df['Telephone']))\n",
    "customer_uk_df = customer_uk_df.withColumn('Telephone', when(customer_uk_df['Telephone'].isNull(), \"Phone Number Unknown\").otherwise(customer_uk_df['Telephone']))\n",
    "customer_por_df = customer_por_df.withColumn('Telephone', when(customer_por_df['Telephone'].isNull(), \"Phone Number Unknown\").otherwise(customer_por_df['Telephone']))\n",
    "\n",
    "\n"
   ]
  },
  {
   "cell_type": "code",
   "execution_count": 0,
   "metadata": {
    "application/vnd.databricks.v1+cell": {
     "cellMetadata": {
      "byteLimit": 2048000,
      "rowLimit": 10000
     },
     "inputWidgets": {},
     "nuid": "14035fc9-25c2-464b-9de3-518c823274cb",
     "showTitle": false,
     "tableResultSettingsMap": {},
     "title": ""
    }
   },
   "outputs": [
    {
     "output_type": "stream",
     "name": "stdout",
     "output_type": "stream",
     "text": [
      "+-----------+--------------------+--------------------+----------+--------+-------------+------+-------------+--------------------+\n|Customer ID|                Name|               Email| Telephone|    City|      Country|Gender|Date Of Birth|           Job Title|\n+-----------+--------------------+--------------------+----------+--------+-------------+------+-------------+--------------------+\n|          1|        Tyler Garcia|tyler.garcia@fake...|2297022654|New York|United States|     M|   2003-07-15|                NULL|\n|          2|       Joshua Miller|joshua.miller@fak...|9587296169|New York|United States|     M|   2000-06-16|     Records manager|\n|          3| Alison Marshall DDS|alison.marshall.d...|6455670876|New York|United States|     F|   2003-07-22|                NULL|\n|          4|      Jeffery Acosta|jeffery.acosta@fa...|1233609128|New York|United States|     M|   1996-11-12|         Proofreader|\n|          5|      Ashley Sanders|ashley.sanders@fa...|7814535781|New York|United States|     F|   1998-02-10|Exercise physiolo...|\n|          6|       Steven Chavez|steven.chavez@fak...|4692380828|New York|United States|     M|   1988-01-06|    Technical brewer|\n|          7|       Steven Snyder|steven.snyder@fak...|2945436438|New York|United States|     M|   2000-10-27|Agricultural engi...|\n|          8|         Paul Walker|paul.walker@fake_...|0533550741|New York|United States|     M|   2007-03-03|                NULL|\n|          9|        Edwin Bryant|edwin.bryant@fake...|4363594105|New York|United States|     M|   1999-07-19|Biochemist, clinical|\n|         10|       Michelle Bird|michelle.bird@fak...|3255281530|New York|United States|     F|   2003-03-03|                NULL|\n|         11|Natalie Espinoza DDS|natalie.espinoza....|2537969609|New York|United States|     F|   1970-09-08|Public relations ...|\n|         12|        Autumn Green|autumn.green@fake...|4185047200|New York|United States|     F|   2001-06-24|                NULL|\n|         13|  Jennifer Henderson|jennifer.henderso...|5977667056|New York|United States|     F|   1999-06-03|Engineer, control...|\n|         14|    Jennifer Pearson|jennifer.pearson@...|3545598541|New York|United States|     F|   2006-06-23|                NULL|\n|         15|         Corey Lopez|corey.lopez@fake_...|7359516571|New York|United States|     M|   2000-06-27|     Records manager|\n|         16|      Patrick Parker|patrick.parker@fa...|2051014259|New York|United States|     M|   1999-12-10|        Psychiatrist|\n|         17|          Jason Wong|jason.wong@fake_y...|2567272193|New York|United States|     M|   1977-09-17|     Legal secretary|\n|         18|      Jasmine Miller|jasmine.miller@fa...|9492316332|New York|United States|     F|   2005-06-05|                NULL|\n|         19|      Regina Edwards|regina.edwards@fa...|2720943133|New York|United States|     F|   1995-01-23|      Pilot, airline|\n|         20|            Ann Hall|ann.hall@fake_hot...|3759972367|New York|United States|     F|   2005-07-08|                NULL|\n+-----------+--------------------+--------------------+----------+--------+-------------+------+-------------+--------------------+\nonly showing top 20 rows\n\n"
     ]
    }
   ],
   "source": [
    "# do same transformation for USA\n",
    "customer_usa_df = customer_usa_df.withColumn(\"Telephone\", number_format_udf(col(\"Telephone\")))\n",
    "customer_usa_df = customer_usa_df.withColumn('Telephone', when(customer_usa_df['Telephone'].isNull(), \"Phone Number Unknown\").otherwise(customer_usa_df['Telephone']))\n",
    "\n",
    "#drop telephonme column\n",
    "customer_usa_df = customer_usa_df.drop('Telephonme')\n",
    "\n",
    "#show USA dataframe\n",
    "customer_usa_df.show()\n"
   ]
  },
  {
   "cell_type": "code",
   "execution_count": 0,
   "metadata": {
    "application/vnd.databricks.v1+cell": {
     "cellMetadata": {
      "byteLimit": 2048000,
      "rowLimit": 10000
     },
     "inputWidgets": {},
     "nuid": "52e3051f-c75e-4830-83e0-31c37a6fe6b3",
     "showTitle": false,
     "tableResultSettingsMap": {},
     "title": ""
    }
   },
   "outputs": [
    {
     "output_type": "stream",
     "name": "stdout",
     "output_type": "stream",
     "text": [
      "+--------------+\n|       Country|\n+--------------+\n| United States|\n|   Deutschland|\n|United Kingdom|\n|        España|\n|        France|\n|      Portugal|\n|          中国|\n+--------------+\n\n"
     ]
    }
   ],
   "source": [
    "from pyspark.sql import functions as f\n",
    "\n",
    "combined_df = customer_usa_df.union(customer_deu_df).union(customer_uk_df).union(customer_esp_df).union(customer_fra_df).union(customer_por_df).union(customer_chn_df)\n",
    "\n",
    "combined_df.select(col('Country')).distinct().show()"
   ]
  },
  {
   "cell_type": "code",
   "execution_count": 0,
   "metadata": {
    "application/vnd.databricks.v1+cell": {
     "cellMetadata": {
      "byteLimit": 2048000,
      "rowLimit": 10000
     },
     "inputWidgets": {},
     "nuid": "4448aa3f-8e46-4115-a1ac-71e46c155a5a",
     "showTitle": false,
     "tableResultSettingsMap": {},
     "title": ""
    }
   },
   "outputs": [
    {
     "output_type": "stream",
     "name": "stdout",
     "output_type": "stream",
     "text": [
      "+--------------+\n|       Country|\n+--------------+\n| United States|\n|   Deutschland|\n|United Kingdom|\n|        España|\n|        France|\n|      Portugal|\n|         China|\n+--------------+\n\n"
     ]
    }
   ],
   "source": [
    "#replacing 中国 with China\n",
    "combined_df = combined_df.withColumn('Country', when(combined_df['Country'] == '中国', 'China').otherwise(combined_df['Country']))\n",
    "\n",
    "\n",
    "combined_df.select(col('Country')).distinct().show()"
   ]
  },
  {
   "cell_type": "code",
   "execution_count": 0,
   "metadata": {
    "application/vnd.databricks.v1+cell": {
     "cellMetadata": {
      "byteLimit": 2048000,
      "rowLimit": 10000
     },
     "inputWidgets": {},
     "nuid": "9942664d-e0d8-424e-b5d5-7ad24c8ba918",
     "showTitle": false,
     "tableResultSettingsMap": {},
     "title": ""
    }
   },
   "outputs": [
    {
     "output_type": "stream",
     "name": "stdout",
     "output_type": "stream",
     "text": [
      "+-----------+----+-----+---------+----+-------+------+-------------+---------+\n|Customer ID|Name|Email|Telephone|City|Country|Gender|Date Of Birth|Job Title|\n+-----------+----+-----+---------+----+-------+------+-------------+---------+\n|          0|   0|    0|        0|   0|      0|     0|            0|        0|\n+-----------+----+-----+---------+----+-------+------+-------------+---------+\n\n"
     ]
    }
   ],
   "source": [
    "#replacing null values in job with 'Unknown'\n",
    "combined_df = combined_df.withColumn('Job Title', when(combined_df['Job Title'].isNull(), \"Unknown\").otherwise(combined_df['Job Title']))\n",
    "\n",
    "\n",
    "#total null values in each column\n",
    "null_counts = combined_df.select([sum(col(c).isNull().cast(\"int\")).alias(c) for c in combined_df.columns])\n",
    "\n",
    "# Show the result\n",
    "null_counts.show()"
   ]
  },
  {
   "cell_type": "code",
   "execution_count": 0,
   "metadata": {
    "application/vnd.databricks.v1+cell": {
     "cellMetadata": {
      "byteLimit": 2048000,
      "rowLimit": 10000
     },
     "inputWidgets": {},
     "nuid": "45fdb9e0-c487-4bf2-8234-872ed827b564",
     "showTitle": false,
     "tableResultSettingsMap": {},
     "title": ""
    }
   },
   "outputs": [],
   "source": [
    "customers_df = combined_df"
   ]
  },
  {
   "cell_type": "code",
   "execution_count": 0,
   "metadata": {
    "application/vnd.databricks.v1+cell": {
     "cellMetadata": {
      "byteLimit": 2048000,
      "rowLimit": 10000
     },
     "inputWidgets": {},
     "nuid": "3a0c8541-7d73-4a8a-a190-92b7eb49a002",
     "showTitle": false,
     "tableResultSettingsMap": {},
     "title": ""
    }
   },
   "outputs": [
    {
     "output_type": "stream",
     "name": "stdout",
     "output_type": "stream",
     "text": [
      "Attempting to connect to storage...\nConnection successful!\nFound 6 items\n"
     ]
    },
    {
     "output_type": "display_data",
     "data": {
      "text/html": [
       "<style scoped>\n",
       "  .table-result-container {\n",
       "    max-height: 300px;\n",
       "    overflow: auto;\n",
       "  }\n",
       "  table, th, td {\n",
       "    border: 1px solid black;\n",
       "    border-collapse: collapse;\n",
       "  }\n",
       "  th, td {\n",
       "    padding: 5px;\n",
       "  }\n",
       "  th {\n",
       "    text-align: left;\n",
       "  }\n",
       "</style><div class='table-result-container'><table class='table-result'><thead style='background-color: white'><tr><th>path</th><th>name</th><th>size</th><th>modificationTime</th></tr></thead><tbody><tr><td>abfss://transformedcustomersv1@retailstoragev1.dfs.core.windows.net/transformedcustomersv1/</td><td>transformedcustomersv1/</td><td>0</td><td>1742762564000</td></tr><tr><td>abfss://transformedcustomersv1@retailstoragev1.dfs.core.windows.net/transformeddiscountsv1/</td><td>transformeddiscountsv1/</td><td>0</td><td>1742763167000</td></tr><tr><td>abfss://transformedcustomersv1@retailstoragev1.dfs.core.windows.net/transformedemployeesv1/</td><td>transformedemployeesv1/</td><td>0</td><td>1742763161000</td></tr><tr><td>abfss://transformedcustomersv1@retailstoragev1.dfs.core.windows.net/transformedproductsv1/</td><td>transformedproductsv1/</td><td>0</td><td>1742763172000</td></tr><tr><td>abfss://transformedcustomersv1@retailstoragev1.dfs.core.windows.net/transformedstoresv1/</td><td>transformedstoresv1/</td><td>0</td><td>1742762992000</td></tr><tr><td>abfss://transformedcustomersv1@retailstoragev1.dfs.core.windows.net/transformedtransactionsv1/</td><td>transformedtransactionsv1/</td><td>0</td><td>1742762777000</td></tr></tbody></table></div>"
      ]
     },
     "metadata": {
      "application/vnd.databricks.v1+output": {
       "addedWidgets": {},
       "aggData": [],
       "aggError": "",
       "aggOverflow": false,
       "aggSchema": [],
       "aggSeriesLimitReached": false,
       "aggType": "",
       "arguments": {},
       "columnCustomDisplayInfos": {},
       "data": [
        [
         "abfss://transformedcustomersv1@retailstoragev1.dfs.core.windows.net/transformedcustomersv1/",
         "transformedcustomersv1/",
         0,
         1742762564000
        ],
        [
         "abfss://transformedcustomersv1@retailstoragev1.dfs.core.windows.net/transformeddiscountsv1/",
         "transformeddiscountsv1/",
         0,
         1742763167000
        ],
        [
         "abfss://transformedcustomersv1@retailstoragev1.dfs.core.windows.net/transformedemployeesv1/",
         "transformedemployeesv1/",
         0,
         1742763161000
        ],
        [
         "abfss://transformedcustomersv1@retailstoragev1.dfs.core.windows.net/transformedproductsv1/",
         "transformedproductsv1/",
         0,
         1742763172000
        ],
        [
         "abfss://transformedcustomersv1@retailstoragev1.dfs.core.windows.net/transformedstoresv1/",
         "transformedstoresv1/",
         0,
         1742762992000
        ],
        [
         "abfss://transformedcustomersv1@retailstoragev1.dfs.core.windows.net/transformedtransactionsv1/",
         "transformedtransactionsv1/",
         0,
         1742762777000
        ]
       ],
       "datasetInfos": [],
       "dbfsResultPath": null,
       "isJsonSchema": true,
       "metadata": {},
       "overflow": false,
       "plotOptions": {
        "customPlotOptions": {},
        "displayType": "table",
        "pivotAggregation": null,
        "pivotColumns": null,
        "xColumns": null,
        "yColumns": null
       },
       "removedWidgets": [],
       "schema": [
        {
         "metadata": "{}",
         "name": "path",
         "type": "\"string\""
        },
        {
         "metadata": "{}",
         "name": "name",
         "type": "\"string\""
        },
        {
         "metadata": "{}",
         "name": "size",
         "type": "\"long\""
        },
        {
         "metadata": "{}",
         "name": "modificationTime",
         "type": "\"long\""
        }
       ],
       "type": "table"
      }
     },
     "output_type": "display_data"
    },
    {
     "output_type": "stream",
     "name": "stdout",
     "output_type": "stream",
     "text": [
      "Code execution completed\n"
     ]
    }
   ],
   "source": [
    "# Make sure there are no extra spaces or characters in your key\n",
    "storage_account_name = \"retailstoragev1\"\n",
    "container_name = \"transformedcustomersv1\"\n",
    "storage_account_key = \"PhgCS7e6Sis0d8hNKmiChdVoCUB+zyzJsZyfitbldYuGl2gbe0WnHU/s9avvn74sZOuwBVaBsZ64+AStORDGQw==\"  # Replace with your actual key\n",
    "\n",
    "# Clear any previous configurations (important!)\n",
    "spark.conf.unset(f\"fs.azure.account.auth.type.{storage_account_name}.dfs.core.windows.net\")\n",
    "spark.conf.unset(f\"fs.azure.account.oauth.provider.type.{storage_account_name}.dfs.core.windows.net\")\n",
    "spark.conf.unset(f\"fs.azure.account.oauth2.client.id.{storage_account_name}.dfs.core.windows.net\")\n",
    "\n",
    "# Set the key configuration\n",
    "spark.conf.set(f\"fs.azure.account.key.{storage_account_name}.dfs.core.windows.net\", storage_account_key)\n",
    "\n",
    "# Try accessing with explicit print statements\n",
    "print(\"Attempting to connect to storage...\")\n",
    "\n",
    "try:\n",
    "    result = dbutils.fs.ls(f\"abfss://{container_name}@{storage_account_name}.dfs.core.windows.net/\")\n",
    "    print(\"Connection successful!\")\n",
    "    print(f\"Found {len(result)} items\")\n",
    "    display(result)\n",
    "except Exception as e:\n",
    "    print(f\"Error occurred: {str(e)}\")\n",
    "    \n",
    "print(\"Code execution completed\")"
   ]
  },
  {
   "cell_type": "code",
   "execution_count": 0,
   "metadata": {
    "application/vnd.databricks.v1+cell": {
     "cellMetadata": {
      "byteLimit": 2048000,
      "rowLimit": 10000
     },
     "inputWidgets": {},
     "nuid": "aca4927c-7388-4214-8a7b-1118df5e6763",
     "showTitle": false,
     "tableResultSettingsMap": {},
     "title": ""
    }
   },
   "outputs": [],
   "source": [
    "# Define the container and storage account names\n",
    "storage_account_name = \"retailstoragev1\"\n",
    "container_name = \"transformedcustomersv1\"\n",
    "\n",
    "# Define the output path with the customers folder\n",
    "output_path = f\"abfss://{container_name}@{storage_account_name}.dfs.core.windows.net/transformedcustomersv1/\"\n",
    "\n",
    "# Write the DataFrame to ADLS Gen2, partitioned by the 'Country' column\n",
    "customers_df.write \\\n",
    "    .option(\"header\", \"true\") \\\n",
    "        .partitionBy(\"Country\") \\\n",
    "            .mode(\"overwrite\") \\\n",
    "                .csv(output_path)"
   ]
  },
  {
   "cell_type": "code",
   "execution_count": 0,
   "metadata": {
    "application/vnd.databricks.v1+cell": {
     "cellMetadata": {
      "byteLimit": 2048000,
      "rowLimit": 10000
     },
     "inputWidgets": {},
     "nuid": "ea895d19-fb07-4988-9633-a95115331ad1",
     "showTitle": false,
     "tableResultSettingsMap": {},
     "title": ""
    }
   },
   "outputs": [
    {
     "output_type": "stream",
     "name": "stdout",
     "output_type": "stream",
     "text": [
      "Attempting to connect to storage...\nConnection successful!\nFound 6 items\n"
     ]
    },
    {
     "output_type": "display_data",
     "data": {
      "text/html": [
       "<style scoped>\n",
       "  .table-result-container {\n",
       "    max-height: 300px;\n",
       "    overflow: auto;\n",
       "  }\n",
       "  table, th, td {\n",
       "    border: 1px solid black;\n",
       "    border-collapse: collapse;\n",
       "  }\n",
       "  th, td {\n",
       "    padding: 5px;\n",
       "  }\n",
       "  th {\n",
       "    text-align: left;\n",
       "  }\n",
       "</style><div class='table-result-container'><table class='table-result'><thead style='background-color: white'><tr><th>path</th><th>name</th><th>size</th><th>modificationTime</th></tr></thead><tbody><tr><td>abfss://rawdatav1@retailstoragev1.dfs.core.windows.net/customers.csv</td><td>customers.csv</td><td>216754731</td><td>1742448678000</td></tr><tr><td>abfss://rawdatav1@retailstoragev1.dfs.core.windows.net/discounts.csv</td><td>discounts.csv</td><td>18275</td><td>1742439834000</td></tr><tr><td>abfss://rawdatav1@retailstoragev1.dfs.core.windows.net/employees.csv</td><td>employees.csv</td><td>15165</td><td>1742439834000</td></tr><tr><td>abfss://rawdatav1@retailstoragev1.dfs.core.windows.net/products.csv</td><td>products.csv</td><td>22028532</td><td>1742448708000</td></tr><tr><td>abfss://rawdatav1@retailstoragev1.dfs.core.windows.net/stores.csv</td><td>stores.csv</td><td>3105</td><td>1742448725000</td></tr><tr><td>abfss://rawdatav1@retailstoragev1.dfs.core.windows.net/transactions.csv</td><td>transactions.csv</td><td>805152362</td><td>1742440147000</td></tr></tbody></table></div>"
      ]
     },
     "metadata": {
      "application/vnd.databricks.v1+output": {
       "addedWidgets": {},
       "aggData": [],
       "aggError": "",
       "aggOverflow": false,
       "aggSchema": [],
       "aggSeriesLimitReached": false,
       "aggType": "",
       "arguments": {},
       "columnCustomDisplayInfos": {},
       "data": [
        [
         "abfss://rawdatav1@retailstoragev1.dfs.core.windows.net/customers.csv",
         "customers.csv",
         216754731,
         1742448678000
        ],
        [
         "abfss://rawdatav1@retailstoragev1.dfs.core.windows.net/discounts.csv",
         "discounts.csv",
         18275,
         1742439834000
        ],
        [
         "abfss://rawdatav1@retailstoragev1.dfs.core.windows.net/employees.csv",
         "employees.csv",
         15165,
         1742439834000
        ],
        [
         "abfss://rawdatav1@retailstoragev1.dfs.core.windows.net/products.csv",
         "products.csv",
         22028532,
         1742448708000
        ],
        [
         "abfss://rawdatav1@retailstoragev1.dfs.core.windows.net/stores.csv",
         "stores.csv",
         3105,
         1742448725000
        ],
        [
         "abfss://rawdatav1@retailstoragev1.dfs.core.windows.net/transactions.csv",
         "transactions.csv",
         805152362,
         1742440147000
        ]
       ],
       "datasetInfos": [],
       "dbfsResultPath": null,
       "isJsonSchema": true,
       "metadata": {},
       "overflow": false,
       "plotOptions": {
        "customPlotOptions": {},
        "displayType": "table",
        "pivotAggregation": null,
        "pivotColumns": null,
        "xColumns": null,
        "yColumns": null
       },
       "removedWidgets": [],
       "schema": [
        {
         "metadata": "{}",
         "name": "path",
         "type": "\"string\""
        },
        {
         "metadata": "{}",
         "name": "name",
         "type": "\"string\""
        },
        {
         "metadata": "{}",
         "name": "size",
         "type": "\"long\""
        },
        {
         "metadata": "{}",
         "name": "modificationTime",
         "type": "\"long\""
        }
       ],
       "type": "table"
      }
     },
     "output_type": "display_data"
    },
    {
     "output_type": "stream",
     "name": "stdout",
     "output_type": "stream",
     "text": [
      "Code execution completed\n"
     ]
    }
   ],
   "source": [
    "# Make sure there are no extra spaces or characters in your key\n",
    "storage_account_name = \"retailstoragev1\"\n",
    "container_name = \"rawdatav1\"\n",
    "storage_account_key = \"PhgCS7e6Sis0d8hNKmiChdVoCUB+zyzJsZyfitbldYuGl2gbe0WnHU/s9avvn74sZOuwBVaBsZ64+AStORDGQw==\"  # Replace with your actual key\n",
    "\n",
    "# Clear any previous configurations (important!)\n",
    "spark.conf.unset(f\"fs.azure.account.auth.type.{storage_account_name}.dfs.core.windows.net\")\n",
    "spark.conf.unset(f\"fs.azure.account.oauth.provider.type.{storage_account_name}.dfs.core.windows.net\")\n",
    "spark.conf.unset(f\"fs.azure.account.oauth2.client.id.{storage_account_name}.dfs.core.windows.net\")\n",
    "\n",
    "# Set the key configuration\n",
    "spark.conf.set(f\"fs.azure.account.key.{storage_account_name}.dfs.core.windows.net\", storage_account_key)\n",
    "\n",
    "# Try accessing with explicit print statements\n",
    "print(\"Attempting to connect to storage...\")\n",
    "\n",
    "try:\n",
    "    result = dbutils.fs.ls(f\"abfss://{container_name}@{storage_account_name}.dfs.core.windows.net/\")\n",
    "    print(\"Connection successful!\")\n",
    "    print(f\"Found {len(result)} items\")\n",
    "    display(result)\n",
    "except Exception as e:\n",
    "    print(f\"Error occurred: {str(e)}\")\n",
    "    \n",
    "print(\"Code execution completed\")"
   ]
  },
  {
   "cell_type": "code",
   "execution_count": 0,
   "metadata": {
    "application/vnd.databricks.v1+cell": {
     "cellMetadata": {
      "byteLimit": 2048000,
      "rowLimit": 10000
     },
     "inputWidgets": {},
     "nuid": "e5b387e4-28d3-4265-81b7-413e4ebe0c10",
     "showTitle": false,
     "tableResultSettingsMap": {},
     "title": ""
    }
   },
   "outputs": [
    {
     "output_type": "stream",
     "name": "stdout",
     "output_type": "stream",
     "text": [
      "+----------+----------+-------+--------------------+---------+--------------------+\n|     Start|       End|Discont|         Description| Category|        Sub Category|\n+----------+----------+-------+--------------------+---------+--------------------+\n|2020-01-01|2020-01-10|    0.4|40% discount duri...| Feminine|   Coats and Blazers|\n|2020-01-01|2020-01-10|    0.4|40% discount duri...| Feminine|Sweaters and Knit...|\n|2020-01-01|2020-01-10|    0.4|40% discount duri...|Masculine|   Coats and Blazers|\n|2020-01-01|2020-01-10|    0.4|40% discount duri...|Masculine|Sweaters and Swea...|\n|2020-01-01|2020-01-10|    0.4|40% discount duri...| Children|               Coats|\n|2020-01-01|2020-01-10|    0.4|40% discount duri...| Children|            Sweaters|\n|2020-03-15|2020-03-31|   0.35|35% discount duri...| Feminine|Dresses and Jumps...|\n|2020-03-15|2020-03-31|   0.35|35% discount duri...| Feminine|  Shirts and Blouses|\n|2020-03-15|2020-03-31|   0.35|35% discount duri...|Masculine|  T-shirts and Polos|\n|2020-03-15|2020-03-31|   0.35|35% discount duri...|Masculine|              Shirts|\n|2020-03-15|2020-03-31|   0.35|35% discount duri...| Children|Girl and Boy (1-5...|\n|2020-05-01|2020-05-15|   0.25|25% discount duri...| Feminine|   T-shirts and Tops|\n|2020-05-01|2020-05-15|   0.25|25% discount duri...| Feminine|   Skirts and Shorts|\n|2020-05-01|2020-05-15|   0.25|25% discount duri...| Feminine|Dresses and Jumps...|\n|2020-05-01|2020-05-15|   0.25|25% discount duri...|Masculine|  T-shirts and Polos|\n|2020-05-01|2020-05-15|   0.25|25% discount duri...|Masculine|     Pants and Jeans|\n|2020-05-01|2020-05-15|   0.25|25% discount duri...| Children|Girl and Boy (1-5...|\n|2020-05-01|2020-05-15|   0.25|25% discount duri...| Children|             Pajamas|\n|2020-05-01|2020-05-15|   0.25|25% discount duri...| Children|         Accessories|\n|2020-09-01|2020-09-15|   0.45|45% discount duri...| Feminine|Dresses and Jumps...|\n+----------+----------+-------+--------------------+---------+--------------------+\nonly showing top 20 rows\n\n"
     ]
    }
   ],
   "source": [
    "df = spark.read.format(\"csv\") \\\n",
    "    .option(\"header\", \"true\") \\\n",
    "    .option(\"inferSchema\", \"true\") \\\n",
    "    .load(\"abfss://rawdatav1@retailstoragev1.dfs.core.windows.net/discounts.csv\")\n",
    "\n",
    "# Display the first few rows\n",
    "df.show()"
   ]
  },
  {
   "cell_type": "code",
   "execution_count": 0,
   "metadata": {
    "application/vnd.databricks.v1+cell": {
     "cellMetadata": {
      "byteLimit": 2048000,
      "rowLimit": 10000
     },
     "inputWidgets": {},
     "nuid": "67d81c35-bd64-4cae-bdd9-6921cd35aa3a",
     "showTitle": false,
     "tableResultSettingsMap": {},
     "title": ""
    }
   },
   "outputs": [
    {
     "output_type": "stream",
     "name": "stdout",
     "output_type": "stream",
     "text": [
      "+-------------------------------------------------------+\n|Description                                            |\n+-------------------------------------------------------+\n|40% discount during our New Year Winter Sale           |\n|40% discount during our New Year Winter Sale           |\n|40% discount during our New Year Winter Sale           |\n|40% discount during our New Year Winter Sale           |\n|40% discount during our New Year Winter Sale           |\n|40% discount during our New Year Winter Sale           |\n|35% discount during our Early Spring Collection Refresh|\n|35% discount during our Early Spring Collection Refresh|\n|35% discount during our Early Spring Collection Refresh|\n|35% discount during our Early Spring Collection Refresh|\n|35% discount during our Early Spring Collection Refresh|\n|25% discount during our Mid-Spring Refresh Sale        |\n|25% discount during our Mid-Spring Refresh Sale        |\n|25% discount during our Mid-Spring Refresh Sale        |\n|25% discount during our Mid-Spring Refresh Sale        |\n|25% discount during our Mid-Spring Refresh Sale        |\n|25% discount during our Mid-Spring Refresh Sale        |\n|25% discount during our Mid-Spring Refresh Sale        |\n|25% discount during our Mid-Spring Refresh Sale        |\n|45% discount during our Fall Collection Launch         |\n+-------------------------------------------------------+\nonly showing top 20 rows\n\n"
     ]
    }
   ],
   "source": [
    "#display description \n",
    "df.select(\"Description\").show(truncate=False)"
   ]
  },
  {
   "cell_type": "code",
   "execution_count": 0,
   "metadata": {
    "application/vnd.databricks.v1+cell": {
     "cellMetadata": {
      "byteLimit": 2048000,
      "rowLimit": 10000
     },
     "inputWidgets": {},
     "nuid": "8d2ee0d3-a0fa-431e-86f9-b6852843ad3f",
     "showTitle": false,
     "tableResultSettingsMap": {},
     "title": ""
    }
   },
   "outputs": [],
   "source": [
    "#to fetch occasion from description\n",
    "\n",
    "def occasion(description):\n",
    "    return(\" \".join( description.split()[4:6]))\n",
    "\n",
    "occasion= udf(occasion, StringType())\n"
   ]
  },
  {
   "cell_type": "code",
   "execution_count": 0,
   "metadata": {
    "application/vnd.databricks.v1+cell": {
     "cellMetadata": {
      "byteLimit": 2048000,
      "rowLimit": 10000
     },
     "inputWidgets": {},
     "nuid": "67c8e62c-a0f7-4a53-8a39-bc21ebe7a6d2",
     "showTitle": false,
     "tableResultSettingsMap": {},
     "title": ""
    }
   },
   "outputs": [
    {
     "output_type": "stream",
     "name": "stdout",
     "output_type": "stream",
     "text": [
      "+----------+----------+-------+--------------------+---------+--------------------+------------------+\n|     Start|       End|Discont|         Description| Category|        Sub Category|          Occasion|\n+----------+----------+-------+--------------------+---------+--------------------+------------------+\n|2020-01-01|2020-01-10|    0.4|40% discount duri...| Feminine|   Coats and Blazers|          New Year|\n|2020-01-01|2020-01-10|    0.4|40% discount duri...| Feminine|Sweaters and Knit...|          New Year|\n|2020-01-01|2020-01-10|    0.4|40% discount duri...|Masculine|   Coats and Blazers|          New Year|\n|2020-01-01|2020-01-10|    0.4|40% discount duri...|Masculine|Sweaters and Swea...|          New Year|\n|2020-01-01|2020-01-10|    0.4|40% discount duri...| Children|               Coats|          New Year|\n|2020-01-01|2020-01-10|    0.4|40% discount duri...| Children|            Sweaters|          New Year|\n|2020-03-15|2020-03-31|   0.35|35% discount duri...| Feminine|Dresses and Jumps...|      Early Spring|\n|2020-03-15|2020-03-31|   0.35|35% discount duri...| Feminine|  Shirts and Blouses|      Early Spring|\n|2020-03-15|2020-03-31|   0.35|35% discount duri...|Masculine|  T-shirts and Polos|      Early Spring|\n|2020-03-15|2020-03-31|   0.35|35% discount duri...|Masculine|              Shirts|      Early Spring|\n|2020-03-15|2020-03-31|   0.35|35% discount duri...| Children|Girl and Boy (1-5...|      Early Spring|\n|2020-05-01|2020-05-15|   0.25|25% discount duri...| Feminine|   T-shirts and Tops|Mid-Spring Refresh|\n|2020-05-01|2020-05-15|   0.25|25% discount duri...| Feminine|   Skirts and Shorts|Mid-Spring Refresh|\n|2020-05-01|2020-05-15|   0.25|25% discount duri...| Feminine|Dresses and Jumps...|Mid-Spring Refresh|\n|2020-05-01|2020-05-15|   0.25|25% discount duri...|Masculine|  T-shirts and Polos|Mid-Spring Refresh|\n|2020-05-01|2020-05-15|   0.25|25% discount duri...|Masculine|     Pants and Jeans|Mid-Spring Refresh|\n|2020-05-01|2020-05-15|   0.25|25% discount duri...| Children|Girl and Boy (1-5...|Mid-Spring Refresh|\n|2020-05-01|2020-05-15|   0.25|25% discount duri...| Children|             Pajamas|Mid-Spring Refresh|\n|2020-05-01|2020-05-15|   0.25|25% discount duri...| Children|         Accessories|Mid-Spring Refresh|\n|2020-09-01|2020-09-15|   0.45|45% discount duri...| Feminine|Dresses and Jumps...|   Fall Collection|\n+----------+----------+-------+--------------------+---------+--------------------+------------------+\nonly showing top 20 rows\n\n"
     ]
    }
   ],
   "source": [
    "#fetching occasion from description on the enttire column\n",
    "\n",
    "df=df.withColumn(\"Occasion\", occasion(df.Description))\n",
    "df.show()"
   ]
  },
  {
   "cell_type": "code",
   "execution_count": 0,
   "metadata": {
    "application/vnd.databricks.v1+cell": {
     "cellMetadata": {
      "byteLimit": 2048000,
      "rowLimit": 10000
     },
     "inputWidgets": {},
     "nuid": "bbb951bc-6962-49e5-8dbf-c07fc3b470b6",
     "showTitle": false,
     "tableResultSettingsMap": {},
     "title": ""
    }
   },
   "outputs": [
    {
     "output_type": "stream",
     "name": "stdout",
     "output_type": "stream",
     "text": [
      "+----------+----------+-------+---------+--------------------+--------+\n|     Start|       End|Discont| Category|        Sub Category|Occasion|\n+----------+----------+-------+---------+--------------------+--------+\n|2020-01-01|2020-01-10|    0.4| Feminine|   Coats and Blazers|New Year|\n|2020-01-01|2020-01-10|    0.4| Feminine|Sweaters and Knit...|New Year|\n|2020-01-01|2020-01-10|    0.4|Masculine|   Coats and Blazers|New Year|\n+----------+----------+-------+---------+--------------------+--------+\nonly showing top 3 rows\n\n"
     ]
    }
   ],
   "source": [
    "df=df.drop(\"Description\")\n",
    "df.show(3)"
   ]
  },
  {
   "cell_type": "code",
   "execution_count": 0,
   "metadata": {
    "application/vnd.databricks.v1+cell": {
     "cellMetadata": {
      "byteLimit": 2048000,
      "rowLimit": 10000
     },
     "inputWidgets": {},
     "nuid": "ec1504fa-b0fb-44b1-85a0-0c369ebfa84e",
     "showTitle": false,
     "tableResultSettingsMap": {},
     "title": ""
    }
   },
   "outputs": [
    {
     "output_type": "stream",
     "name": "stdout",
     "output_type": "stream",
     "text": [
      "+-----+---+-------+--------+------------+--------+\n|Start|End|Discont|Category|Sub Category|Occasion|\n+-----+---+-------+--------+------------+--------+\n|    0|  0|      0|      10|          10|       0|\n+-----+---+-------+--------+------------+--------+\n\n"
     ]
    }
   ],
   "source": [
    "\n",
    "null_counts = df.select([sum(col(c).isNull().cast(\"int\")).alias(c) for c in df.columns])\n",
    "null_counts.show()"
   ]
  },
  {
   "cell_type": "code",
   "execution_count": 0,
   "metadata": {
    "application/vnd.databricks.v1+cell": {
     "cellMetadata": {
      "byteLimit": 2048000,
      "rowLimit": 10000
     },
     "inputWidgets": {},
     "nuid": "1df207dd-a89c-4750-924f-ebfcfc907a47",
     "showTitle": false,
     "tableResultSettingsMap": {},
     "title": ""
    }
   },
   "outputs": [
    {
     "output_type": "stream",
     "name": "stdout",
     "output_type": "stream",
     "text": [
      "+-----+---+-------+--------+------------+--------+\n|Start|End|Discont|Category|Sub Category|Occasion|\n+-----+---+-------+--------+------------+--------+\n|    0|  0|      0|       0|           0|       0|\n+-----+---+-------+--------+------------+--------+\n\n"
     ]
    }
   ],
   "source": [
    "#replacing category null values with unknown\n",
    "df=df.withColumn(\"Category\", when(col(\"Category\").isNull(), \"Unknown\").otherwise(col(\"Category\")))\n",
    "df=df.withColumn(\"Sub Category\", when(col(\"Sub Category\").isNull(), \"Unknown\").otherwise(col(\"Sub Category\")))\n",
    "null_counts = df.select([sum(col(c).isNull().cast(\"int\")).alias(c) for c in df.columns])\n",
    "null_counts.show()"
   ]
  },
  {
   "cell_type": "code",
   "execution_count": 0,
   "metadata": {
    "application/vnd.databricks.v1+cell": {
     "cellMetadata": {
      "byteLimit": 2048000,
      "rowLimit": 10000
     },
     "inputWidgets": {},
     "nuid": "859634a1-b20b-4c00-b71d-826f76e529df",
     "showTitle": false,
     "tableResultSettingsMap": {},
     "title": ""
    }
   },
   "outputs": [
    {
     "output_type": "stream",
     "name": "stdout",
     "output_type": "stream",
     "text": [
      "+----------+----------+-------+---------+--------------------+--------+\n|     Start|       End|Discont| Category|        Sub Category|Occasion|\n+----------+----------+-------+---------+--------------------+--------+\n|2020-01-01|2020-01-10|    0.4| Feminine|   Coats and Blazers|New Year|\n|2020-01-01|2020-01-10|    0.4| Feminine|Sweaters and Knit...|New Year|\n|2020-01-01|2020-01-10|    0.4|Masculine|   Coats and Blazers|New Year|\n|2020-01-01|2020-01-10|    0.4|Masculine|Sweaters and Swea...|New Year|\n|2020-01-01|2020-01-10|    0.4| Children|               Coats|New Year|\n+----------+----------+-------+---------+--------------------+--------+\nonly showing top 5 rows\n\n"
     ]
    }
   ],
   "source": [
    "discounts_df=df\n",
    "discounts_df.show(5)"
   ]
  },
  {
   "cell_type": "code",
   "execution_count": 0,
   "metadata": {
    "application/vnd.databricks.v1+cell": {
     "cellMetadata": {
      "byteLimit": 2048000,
      "rowLimit": 10000
     },
     "inputWidgets": {},
     "nuid": "88d85847-307b-4c9d-8083-972a28b34ccb",
     "showTitle": false,
     "tableResultSettingsMap": {},
     "title": ""
    }
   },
   "outputs": [
    {
     "output_type": "stream",
     "name": "stdout",
     "output_type": "stream",
     "text": [
      "+-----------+--------+--------------------+-----------------+\n|Employee ID|Store ID|                Name|         Position|\n+-----------+--------+--------------------+-----------------+\n|          1|       1|     Stephen Johnson|    Store Manager|\n|          2|       1|       Rebecca Myers|Assistant Manager|\n|          3|       1|  Katherine Buchanan|          Cashier|\n|          4|       1|       Jessica Hicks|      Stock Clerk|\n|          5|       1|          Ryan Gross|  Sales Associate|\n|          6|       1|     Jeffery Carlson|  Sales Associate|\n|          7|       1|      Melissa Wilson|  Sales Associate|\n|          8|       1|        Edward Hicks|  Sales Associate|\n|          9|       1|        Shari Jordan|  Sales Associate|\n|         10|       1|Mrs. Melissa Cald...|  Sales Associate|\n|         11|       1|       Regina Nelson|  Sales Associate|\n|         12|       1|        Kevin Dawson|  Sales Associate|\n|         13|       1|       Nicole Murphy|  Sales Associate|\n|         14|       2|         Susan Brown|    Store Manager|\n|         15|       2|         Sean Miller|Assistant Manager|\n|         16|       2|Christopher Domin...|          Cashier|\n|         17|       2|          Lisa Mason|      Stock Clerk|\n|         18|       2|         David Pitts|  Sales Associate|\n|         19|       2|       Lance Schultz|  Sales Associate|\n|         20|       2|       Caroline Hall|  Sales Associate|\n+-----------+--------+--------------------+-----------------+\nonly showing top 20 rows\n\n"
     ]
    }
   ],
   "source": [
    "employee_df = spark.read.format(\"csv\") \\\n",
    "    .option(\"header\", \"true\") \\\n",
    "    .option(\"inferSchema\", \"true\") \\\n",
    "    .load(\"abfss://rawdatav1@retailstoragev1.dfs.core.windows.net/employees.csv\")\n",
    "\n",
    "# Display the first few rows\n",
    "employee_df.show()"
   ]
  },
  {
   "cell_type": "code",
   "execution_count": 0,
   "metadata": {
    "application/vnd.databricks.v1+cell": {
     "cellMetadata": {
      "byteLimit": 2048000,
      "rowLimit": 10000
     },
     "inputWidgets": {},
     "nuid": "09e905b4-6785-443e-90a5-c8add793d01c",
     "showTitle": false,
     "tableResultSettingsMap": {},
     "title": ""
    }
   },
   "outputs": [
    {
     "output_type": "stream",
     "name": "stdout",
     "output_type": "stream",
     "text": [
      "+-----------+--------+----+--------+\n|Employee ID|Store ID|Name|Position|\n+-----------+--------+----+--------+\n|          0|       0|   0|       0|\n+-----------+--------+----+--------+\n\n"
     ]
    }
   ],
   "source": [
    "#null value counts\n",
    "null_counts = employee_df.select([sum(col(c).isNull().cast(\"int\")).alias(c) for c in employee_df.columns])\n",
    "null_counts.show()"
   ]
  },
  {
   "cell_type": "code",
   "execution_count": 0,
   "metadata": {
    "application/vnd.databricks.v1+cell": {
     "cellMetadata": {
      "byteLimit": 2048000,
      "rowLimit": 10000
     },
     "inputWidgets": {},
     "nuid": "27c0e896-388b-41cc-810e-09e49d59f113",
     "showTitle": false,
     "tableResultSettingsMap": {},
     "title": ""
    }
   },
   "outputs": [
    {
     "output_type": "stream",
     "name": "stdout",
     "output_type": "stream",
     "text": [
      "+----------+--------+---------------------+---------------------------------+---------------------------------+-------------------------------------+----------------------------------+---------------------------------+------------------------+-----+--------+---------------+\n|Product ID|Category|Sub Category         |Description PT                   |Description DE                   |Description FR                       |Description ES                    |Description EN                   |Description ZH          |Color|Sizes   |Production Cost|\n+----------+--------+---------------------+---------------------------------+---------------------------------+-------------------------------------+----------------------------------+---------------------------------+------------------------+-----+--------+---------------+\n|1         |Feminine|Coats and Blazers    |Esportivo Veludo Verde Com Botões|Sport Samt Sport Mit Knöpfen     |Sports Velvet Sports Avec Des Boutons|Deportes De Terciopelo Con Botones|Sports Velvet Sports With Buttons|运动天鹅绒运动与按钮    |NULL |S|M|L|XL|10.73          |\n|2         |Feminine|Sweaters and Knitwear|Luxuoso Denim Rosa Com Botões    |Luxuriöser Rosa Jeans Mit Knöpfen|Léchard De Denim Rose Avec Boutons   |Denim Rosa Lujoso Con Botones     |Luxurious Pink Denim With Buttons|豪华的粉红色牛仔布和纽扣|PINK |S|M|L|XL|19.55          |\n|3         |Feminine|Dresses and Jumpsuits|Retrô Tricot Preto Estampado     |Black Tricot Gedruckter Tricot   |Tricot Imprimé En Tricot Noir        |Tricot Negro Tricot Impreso       |Black Tricot Printed Tricot      |黑色三角形印刷三角形    |BLACK|S|M|L|XL|25.59          |\n+----------+--------+---------------------+---------------------------------+---------------------------------+-------------------------------------+----------------------------------+---------------------------------+------------------------+-----+--------+---------------+\nonly showing top 3 rows\n\n"
     ]
    }
   ],
   "source": [
    "products_df = spark.read.format(\"csv\") \\\n",
    "    .option(\"header\", \"true\") \\\n",
    "    .option(\"inferSchema\", \"true\") \\\n",
    "    .load(\"abfss://rawdatav1@retailstoragev1.dfs.core.windows.net/products.csv\")\n",
    "\n",
    "# Display the first few rows\n",
    "products_df.show(3,truncate=False)"
   ]
  },
  {
   "cell_type": "code",
   "execution_count": 0,
   "metadata": {
    "application/vnd.databricks.v1+cell": {
     "cellMetadata": {
      "byteLimit": 2048000,
      "rowLimit": 10000
     },
     "inputWidgets": {},
     "nuid": "7f029dcc-fd20-48d6-b9c2-72478407eae1",
     "showTitle": false,
     "tableResultSettingsMap": {},
     "title": ""
    }
   },
   "outputs": [
    {
     "output_type": "execute_result",
     "data": {
      "text/plain": [
       "['Product ID',\n",
       " 'Category',\n",
       " 'Sub Category',\n",
       " 'Description PT',\n",
       " 'Description DE',\n",
       " 'Description FR',\n",
       " 'Description ES',\n",
       " 'Description EN',\n",
       " 'Description ZH',\n",
       " 'Color',\n",
       " 'Sizes',\n",
       " 'Production Cost']"
      ]
     },
     "execution_count": 87,
     "metadata": {},
     "output_type": "execute_result"
    }
   ],
   "source": [
    "products_df.columns"
   ]
  },
  {
   "cell_type": "code",
   "execution_count": 0,
   "metadata": {
    "application/vnd.databricks.v1+cell": {
     "cellMetadata": {
      "byteLimit": 2048000,
      "rowLimit": 10000
     },
     "inputWidgets": {},
     "nuid": "b9c6d520-908a-44ef-9f28-5613fc2bc607",
     "showTitle": false,
     "tableResultSettingsMap": {},
     "title": ""
    }
   },
   "outputs": [
    {
     "output_type": "stream",
     "name": "stdout",
     "output_type": "stream",
     "text": [
      "+----------+--------+---------------------+---------------------------------+-----+--------+---------------+\n|Product ID|Category|Sub Category         |Description EN                   |Color|Sizes   |Production Cost|\n+----------+--------+---------------------+---------------------------------+-----+--------+---------------+\n|1         |Feminine|Coats and Blazers    |Sports Velvet Sports With Buttons|NULL |S|M|L|XL|10.73          |\n|2         |Feminine|Sweaters and Knitwear|Luxurious Pink Denim With Buttons|PINK |S|M|L|XL|19.55          |\n|3         |Feminine|Dresses and Jumpsuits|Black Tricot Printed Tricot      |BLACK|S|M|L|XL|25.59          |\n+----------+--------+---------------------+---------------------------------+-----+--------+---------------+\nonly showing top 3 rows\n\n"
     ]
    }
   ],
   "source": [
    "products_df=products_df.select(\"Product ID\", \"Category\", \"Sub Category\", \"Description EN\", \"Color\", \"Sizes\", \"Production Cost\")\n",
    "products_df.show(3,truncate=False)"
   ]
  },
  {
   "cell_type": "code",
   "execution_count": 0,
   "metadata": {
    "application/vnd.databricks.v1+cell": {
     "cellMetadata": {
      "byteLimit": 2048000,
      "rowLimit": 10000
     },
     "inputWidgets": {},
     "nuid": "5b7d17b4-ca58-4026-9ec0-9b5030a58a64",
     "showTitle": false,
     "tableResultSettingsMap": {},
     "title": ""
    }
   },
   "outputs": [
    {
     "output_type": "stream",
     "name": "stdout",
     "output_type": "stream",
     "text": [
      "+----------+--------+------------+--------------+-----+-----+---------------+\n|Product ID|Category|Sub Category|Description EN|Color|Sizes|Production Cost|\n+----------+--------+------------+--------------+-----+-----+---------------+\n|         0|       0|           0|             0|49780| 8280|              0|\n+----------+--------+------------+--------------+-----+-----+---------------+\n\n"
     ]
    }
   ],
   "source": [
    "#calculating null values for each columns\n",
    "null_counts = products_df.select([sum(col(c).isNull().cast(\"int\")).alias(c) for c in products_df.columns]) \n",
    "null_counts.show()"
   ]
  },
  {
   "cell_type": "code",
   "execution_count": 0,
   "metadata": {
    "application/vnd.databricks.v1+cell": {
     "cellMetadata": {
      "byteLimit": 2048000,
      "rowLimit": 10000
     },
     "inputWidgets": {},
     "nuid": "b66396da-1434-4356-ad41-201bf4ec3f56",
     "showTitle": false,
     "tableResultSettingsMap": {},
     "title": ""
    }
   },
   "outputs": [
    {
     "output_type": "stream",
     "name": "stdout",
     "output_type": "stream",
     "text": [
      "+----------+--------+------------+--------------+-----+-----+---------------+\n|Product ID|Category|Sub Category|Description EN|Color|Sizes|Production Cost|\n+----------+--------+------------+--------------+-----+-----+---------------+\n|         0|       0|           0|             0|    0|    0|              0|\n+----------+--------+------------+--------------+-----+-----+---------------+\n\n"
     ]
    }
   ],
   "source": [
    "#replacing null values with unknown\n",
    "\n",
    "products_df=products_df.withColumn(\"Color\", when(col(\"Color\").isNull(), \"Unknown\").otherwise(col(\"Color\")))\n",
    "\n",
    "products_df=products_df.withColumn(\"Sizes\", when(col(\"Sizes\").isNull(), \"Unknown\").otherwise(col(\"Sizes\")))\n",
    "\n",
    "#calculating null values for each columns\n",
    "null_counts = products_df.select([sum(col(c).isNull().cast(\"int\")).alias(c) for c in products_df.columns]) \n",
    "null_counts.show()"
   ]
  },
  {
   "cell_type": "code",
   "execution_count": 0,
   "metadata": {
    "application/vnd.databricks.v1+cell": {
     "cellMetadata": {
      "byteLimit": 2048000,
      "rowLimit": 10000
     },
     "inputWidgets": {},
     "nuid": "d8bb2f96-8fec-4f44-b3ad-5bd1b247fea2",
     "showTitle": false,
     "tableResultSettingsMap": {},
     "title": ""
    }
   },
   "outputs": [
    {
     "output_type": "stream",
     "name": "stdout",
     "output_type": "stream",
     "text": [
      "+----------+--------+--------------------+--------------------+-------+--------+---------------+\n|Product ID|Category|        Sub Category|      Description EN|  Color|   Sizes|Production Cost|\n+----------+--------+--------------------+--------------------+-------+--------+---------------+\n|         1|Feminine|   Coats and Blazers|Sports Velvet Spo...|Unknown|S|M|L|XL|          10.73|\n|         2|Feminine|Sweaters and Knit...|Luxurious Pink De...|   PINK|S|M|L|XL|          19.55|\n|         3|Feminine|Dresses and Jumps...|Black Tricot Prin...|  BLACK|S|M|L|XL|          25.59|\n+----------+--------+--------------------+--------------------+-------+--------+---------------+\nonly showing top 3 rows\n\n"
     ]
    }
   ],
   "source": [
    "products_df.show(3)"
   ]
  },
  {
   "cell_type": "code",
   "execution_count": 0,
   "metadata": {
    "application/vnd.databricks.v1+cell": {
     "cellMetadata": {
      "byteLimit": 2048000,
      "rowLimit": 10000
     },
     "inputWidgets": {},
     "nuid": "6318c77e-0920-4188-88e3-712baf7f2fa7",
     "showTitle": false,
     "tableResultSettingsMap": {},
     "title": ""
    }
   },
   "outputs": [
    {
     "output_type": "stream",
     "name": "stdout",
     "output_type": "stream",
     "text": [
      "+-----------------+\n|            Sizes|\n+-----------------+\n|         P|M|G|GG|\n|38|40|42|44|46|48|\n|36|38|40|42|44|46|\n|           M|L|XL|\n|          Unknown|\n|   38|40|42|44|46|\n|      38|40|42|44|\n|         S|M|L|XL|\n|   36|38|40|42|44|\n|       M|L|XL|XXL|\n|            S|M|L|\n|            P|M|G|\n|      36|38|40|42|\n+-----------------+\n\n"
     ]
    }
   ],
   "source": [
    "products_df.select(\"Sizes\").distinct().show()"
   ]
  },
  {
   "cell_type": "code",
   "execution_count": 0,
   "metadata": {
    "application/vnd.databricks.v1+cell": {
     "cellMetadata": {
      "byteLimit": 2048000,
      "rowLimit": 10000
     },
     "inputWidgets": {},
     "nuid": "041634ed-a1fc-4476-be59-afd35b28b381",
     "showTitle": false,
     "tableResultSettingsMap": {},
     "title": ""
    }
   },
   "outputs": [
    {
     "output_type": "stream",
     "name": "stdout",
     "output_type": "stream",
     "text": [
      "+--------+--------------+-----------------+--------------------+-------------------+--------+--------+---------+\n|Store ID|       Country|             City|          Store Name|Number of Employees|ZIP Code|Latitude|Longitude|\n+--------+--------------+-----------------+--------------------+-------------------+--------+--------+---------+\n|       1| United States|         New York|      Store New York|                 10|   10001| 40.7128|  -74.006|\n|       2| United States|      Los Angeles|   Store Los Angeles|                  8|   90001| 34.0522|-118.2437|\n|       3| United States|          Chicago|       Store Chicago|                  9|   60601| 41.8781| -87.6298|\n|       4| United States|          Houston|       Store Houston|                 10|   77001| 29.7604| -95.3698|\n|       5| United States|          Phoenix|       Store Phoenix|                  9|   85001| 33.4484| -112.074|\n|       6|          中国|             上海|          Store 上海|                  8|  200000| 31.2304| 121.4737|\n|       7|          中国|             北京|          Store 北京|                 10|  100000| 39.9042| 116.4074|\n|       8|          中国|             广州|          Store 广州|                 10|  510000| 23.1291| 113.2644|\n|       9|          中国|             深圳|          Store 深圳|                  9|  518000| 22.5429| 114.0596|\n|      10|          中国|             重庆|          Store 重庆|                 10|  400000| 29.5638| 106.5505|\n|      11|   Deutschland|           Berlin|        Store Berlin|                  9|   10115| 52.5125|  13.3903|\n|      12|   Deutschland|          Hamburg|       Store Hamburg|                 10|   20095| 53.5503|    9.992|\n|      13|   Deutschland|          München|       Store München|                  9|   80331| 48.1371|  11.5763|\n|      14|   Deutschland|             Köln|          Store Köln|                  8|   50667|  50.938|   6.9578|\n|      15|   Deutschland|Frankfurt am Main|Store Frankfurt a...|                 10|   60311| 50.1145|   8.6785|\n|      16|United Kingdom|           London|        Store London|                  7| EC2P 2E| 51.5072|  -0.1275|\n|      17|United Kingdom|       Birmingham|    Store Birmingham|                  9|  B1 1AA| 52.4862|  -1.8904|\n|      18|United Kingdom|          Glasgow|       Store Glasgow|                  7|  G1 1AA|  55.858|   -4.259|\n|      19|United Kingdom|        Liverpool|     Store Liverpool|                  9|  L1 1AA| 53.4084|  -2.9916|\n|      20|United Kingdom|          Bristol|       Store Bristol|                  7| BS1 1AA| 51.4545|  -2.5879|\n+--------+--------------+-----------------+--------------------+-------------------+--------+--------+---------+\nonly showing top 20 rows\n\n"
     ]
    }
   ],
   "source": [
    "stores_df = spark.read.format(\"csv\") \\\n",
    "    .option(\"header\", \"true\") \\\n",
    "    .option(\"inferSchema\", \"true\") \\\n",
    "    .load(\"abfss://rawdatav1@retailstoragev1.dfs.core.windows.net/stores.csv\")\n",
    "\n",
    "# Display the first few rows\n",
    "stores_df.show()"
   ]
  },
  {
   "cell_type": "code",
   "execution_count": 0,
   "metadata": {
    "application/vnd.databricks.v1+cell": {
     "cellMetadata": {
      "byteLimit": 2048000,
      "rowLimit": 10000
     },
     "inputWidgets": {},
     "nuid": "a29cfc94-f64f-47e8-b2e8-39a9615db9ad",
     "showTitle": false,
     "tableResultSettingsMap": {},
     "title": ""
    }
   },
   "outputs": [
    {
     "output_type": "stream",
     "name": "stdout",
     "output_type": "stream",
     "text": [
      "+--------+--------------+-----------------+--------------------+-------------------+--------+--------+---------+\n|Store ID|       Country|             City|          Store Name|Number of Employees|ZIP Code|Latitude|Longitude|\n+--------+--------------+-----------------+--------------------+-------------------+--------+--------+---------+\n|       1| United States|         New York|      Store New York|                 10|   10001| 40.7128|  -74.006|\n|       2| United States|      Los Angeles|   Store Los Angeles|                  8|   90001| 34.0522|-118.2437|\n|       3| United States|          Chicago|       Store Chicago|                  9|   60601| 41.8781| -87.6298|\n|       4| United States|          Houston|       Store Houston|                 10|   77001| 29.7604| -95.3698|\n|       5| United States|          Phoenix|       Store Phoenix|                  9|   85001| 33.4484| -112.074|\n|       6|         China|             上海|          Store 上海|                  8|  200000| 31.2304| 121.4737|\n|       7|         China|             北京|          Store 北京|                 10|  100000| 39.9042| 116.4074|\n|       8|         China|             广州|          Store 广州|                 10|  510000| 23.1291| 113.2644|\n|       9|         China|             深圳|          Store 深圳|                  9|  518000| 22.5429| 114.0596|\n|      10|         China|             重庆|          Store 重庆|                 10|  400000| 29.5638| 106.5505|\n|      11|   Deutschland|           Berlin|        Store Berlin|                  9|   10115| 52.5125|  13.3903|\n|      12|   Deutschland|          Hamburg|       Store Hamburg|                 10|   20095| 53.5503|    9.992|\n|      13|   Deutschland|          München|       Store München|                  9|   80331| 48.1371|  11.5763|\n|      14|   Deutschland|             Köln|          Store Köln|                  8|   50667|  50.938|   6.9578|\n|      15|   Deutschland|Frankfurt am Main|Store Frankfurt a...|                 10|   60311| 50.1145|   8.6785|\n|      16|United Kingdom|           London|        Store London|                  7| EC2P 2E| 51.5072|  -0.1275|\n|      17|United Kingdom|       Birmingham|    Store Birmingham|                  9|  B1 1AA| 52.4862|  -1.8904|\n|      18|United Kingdom|          Glasgow|       Store Glasgow|                  7|  G1 1AA|  55.858|   -4.259|\n|      19|United Kingdom|        Liverpool|     Store Liverpool|                  9|  L1 1AA| 53.4084|  -2.9916|\n|      20|United Kingdom|          Bristol|       Store Bristol|                  7| BS1 1AA| 51.4545|  -2.5879|\n+--------+--------------+-----------------+--------------------+-------------------+--------+--------+---------+\nonly showing top 20 rows\n\n"
     ]
    }
   ],
   "source": [
    "stores_df = stores_df.withColumn(\"Country\", when(col(\"Country\") == \"中国\", \"China\").otherwise(col('Country')))\n",
    "stores_df.show()"
   ]
  },
  {
   "cell_type": "code",
   "execution_count": 0,
   "metadata": {
    "application/vnd.databricks.v1+cell": {
     "cellMetadata": {
      "byteLimit": 2048000,
      "rowLimit": 10000
     },
     "inputWidgets": {},
     "nuid": "64c534d7-7331-4601-931e-152d08a6ff08",
     "showTitle": false,
     "tableResultSettingsMap": {},
     "title": ""
    }
   },
   "outputs": [
    {
     "output_type": "stream",
     "name": "stdout",
     "output_type": "stream",
     "text": [
      "['深圳', '重庆', '上海', '北京', '广州']\n"
     ]
    }
   ],
   "source": [
    "# Extract Chinese city names as a Python list\n",
    "chinese_cities = [row[\"City\"] for row in stores_df.filter(col(\"Country\") == \"China\").select(\"City\").distinct().collect()]\n",
    "\n",
    "# Print the extracted list\n",
    "print(chinese_cities)\n"
   ]
  },
  {
   "cell_type": "code",
   "execution_count": 0,
   "metadata": {
    "application/vnd.databricks.v1+cell": {
     "cellMetadata": {
      "byteLimit": 2048000,
      "rowLimit": 10000
     },
     "inputWidgets": {},
     "nuid": "8a787cf1-4d7c-480a-8929-520e2831d5ac",
     "showTitle": false,
     "tableResultSettingsMap": {},
     "title": ""
    }
   },
   "outputs": [
    {
     "output_type": "stream",
     "name": "stdout",
     "output_type": "stream",
     "text": [
      "+--------+-------+----+----------+-------------------+--------+--------+---------+\n|Store ID|Country|City|Store Name|Number of Employees|ZIP Code|Latitude|Longitude|\n+--------+-------+----+----------+-------------------+--------+--------+---------+\n|       0|      0|   0|         0|                  0|       0|       0|        0|\n+--------+-------+----+----------+-------------------+--------+--------+---------+\n\n"
     ]
    }
   ],
   "source": [
    "null_counts = stores_df.select([sum(col(c).isNull().cast(\"int\")).alias(c) for c in stores_df.columns]) \n",
    "null_counts.show()"
   ]
  },
  {
   "cell_type": "code",
   "execution_count": 0,
   "metadata": {
    "application/vnd.databricks.v1+cell": {
     "cellMetadata": {
      "byteLimit": 2048000,
      "rowLimit": 10000
     },
     "inputWidgets": {},
     "nuid": "95439c74-01df-4b07-bae2-807e3234d859",
     "showTitle": false,
     "tableResultSettingsMap": {},
     "title": ""
    }
   },
   "outputs": [
    {
     "output_type": "stream",
     "name": "stdout",
     "output_type": "stream",
     "text": [
      "Collecting translate\n  Obtaining dependency information for translate from https://files.pythonhosted.org/packages/e1/54/df0d3e62636f291d716caa44c5c9590af8e6f225c59d7874051da6428c06/translate-3.6.1-py2.py3-none-any.whl.metadata\n  Downloading translate-3.6.1-py2.py3-none-any.whl.metadata (7.7 kB)\nRequirement already satisfied: click in /databricks/python3/lib/python3.11/site-packages (from translate) (8.0.4)\nCollecting lxml (from translate)\n  Obtaining dependency information for lxml from https://files.pythonhosted.org/packages/a5/73/762c319c4906b3db67e4abc7cfe7d66c34996edb6d0e8cb60f462954d662/lxml-5.3.1-cp311-cp311-manylinux_2_28_x86_64.whl.metadata\n  Downloading lxml-5.3.1-cp311-cp311-manylinux_2_28_x86_64.whl.metadata (3.7 kB)\nRequirement already satisfied: requests in /databricks/python3/lib/python3.11/site-packages (from translate) (2.31.0)\nCollecting libretranslatepy==2.1.1 (from translate)\n  Obtaining dependency information for libretranslatepy==2.1.1 from https://files.pythonhosted.org/packages/24/54/044ecbf4eeba3f3feee70d496f34f397dc20714cdb80dfa8bc01e7409f88/libretranslatepy-2.1.1-py3-none-any.whl.metadata\n  Downloading libretranslatepy-2.1.1-py3-none-any.whl.metadata (233 bytes)\nRequirement already satisfied: charset-normalizer<4,>=2 in /databricks/python3/lib/python3.11/site-packages (from requests->translate) (2.0.4)\nRequirement already satisfied: idna<4,>=2.5 in /databricks/python3/lib/python3.11/site-packages (from requests->translate) (3.4)\nRequirement already satisfied: urllib3<3,>=1.21.1 in /databricks/python3/lib/python3.11/site-packages (from requests->translate) (1.26.16)\nRequirement already satisfied: certifi>=2017.4.17 in /databricks/python3/lib/python3.11/site-packages (from requests->translate) (2023.7.22)\nDownloading translate-3.6.1-py2.py3-none-any.whl (12 kB)\nDownloading libretranslatepy-2.1.1-py3-none-any.whl (3.2 kB)\nDownloading lxml-5.3.1-cp311-cp311-manylinux_2_28_x86_64.whl (5.0 MB)\n\u001B[?25l   \u001B[90m━━━━━━━━━━━━━━━━━━━━━━━━━━━━━━━━━━━━━━━━\u001B[0m \u001B[32m0.0/5.0 MB\u001B[0m \u001B[31m?\u001B[0m eta \u001B[36m-:--:--\u001B[0m\n\u001B[2K   \u001B[90m━━━━━━━━━━━━━━━━━━━━━━━━━━━━━━━━━━━━━━━━\u001B[0m \u001B[32m0.0/5.0 MB\u001B[0m \u001B[31m2.5 MB/s\u001B[0m eta \u001B[36m0:00:02\u001B[0m\n\u001B[2K   \u001B[91m╸\u001B[0m\u001B[90m━━━━━━━━━━━━━━━━━━━━━━━━━━━━━━━━━━━━━━━\u001B[0m \u001B[32m0.1/5.0 MB\u001B[0m \u001B[31m1.8 MB/s\u001B[0m eta \u001B[36m0:00:03\u001B[0m\n\u001B[2K   \u001B[91m━━\u001B[0m\u001B[90m╺\u001B[0m\u001B[90m━━━━━━━━━━━━━━━━━━━━━━━━━━━━━━━━━━━━━\u001B[0m \u001B[32m0.3/5.0 MB\u001B[0m \u001B[31m3.0 MB/s\u001B[0m eta \u001B[36m0:00:02\u001B[0m\n\u001B[2K   \u001B[91m━━━━━\u001B[0m\u001B[90m╺\u001B[0m\u001B[90m━━━━━━━━━━━━━━━━━━━━━━━━━━━━━━━━━━\u001B[0m \u001B[32m0.7/5.0 MB\u001B[0m \u001B[31m4.9 MB/s\u001B[0m eta \u001B[36m0:00:01\u001B[0m\n\u001B[2K   \u001B[91m━━━━━━━━━━━\u001B[0m\u001B[90m╺\u001B[0m\u001B[90m━━━━━━━━━━━━━━━━━━━━━━━━━━━━\u001B[0m \u001B[32m1.4/5.0 MB\u001B[0m \u001B[31m8.2 MB/s\u001B[0m eta \u001B[36m0:00:01\u001B[0m\n\u001B[2K   \u001B[91m━━━━━━━━━━━━━━━━━━━━━━━\u001B[0m\u001B[90m╺\u001B[0m\u001B[90m━━━━━━━━━━━━━━━━\u001B[0m \u001B[32m2.9/5.0 MB\u001B[0m \u001B[31m14.3 MB/s\u001B[0m eta \u001B[36m0:00:01\u001B[0m\n\u001B[2K   \u001B[91m━━━━━━━━━━━━━━━━━━━━━━━━━━━━━━━━━━━━━━━\u001B[0m\u001B[91m╸\u001B[0m \u001B[32m5.0/5.0 MB\u001B[0m \u001B[31m22.5 MB/s\u001B[0m eta \u001B[36m0:00:01\u001B[0m\n\u001B[2K   \u001B[90m━━━━━━━━━━━━━━━━━━━━━━━━━━━━━━━━━━━━━━━━\u001B[0m \u001B[32m5.0/5.0 MB\u001B[0m \u001B[31m20.7 MB/s\u001B[0m eta \u001B[36m0:00:00\u001B[0m\n\u001B[?25hInstalling collected packages: libretranslatepy, lxml, translate\nSuccessfully installed libretranslatepy-2.1.1 lxml-5.3.1 translate-3.6.1\n\u001B[43mNote: you may need to restart the kernel using %restart_python or dbutils.library.restartPython() to use updated packages.\u001B[0m\n"
     ]
    }
   ],
   "source": [
    "pip install translate"
   ]
  },
  {
   "cell_type": "code",
   "execution_count": 0,
   "metadata": {
    "application/vnd.databricks.v1+cell": {
     "cellMetadata": {
      "byteLimit": 2048000,
      "rowLimit": 10000
     },
     "inputWidgets": {},
     "nuid": "090071cc-3dec-4ebf-9aee-5d1c4cba7ab7",
     "showTitle": false,
     "tableResultSettingsMap": {},
     "title": ""
    }
   },
   "outputs": [
    {
     "output_type": "stream",
     "name": "stdout",
     "output_type": "stream",
     "text": [
      "+--------+--------------+-----------------+--------------------+-------------------+--------+--------+---------+\n|Store ID|       Country|             City|          Store Name|Number of Employees|ZIP Code|Latitude|Longitude|\n+--------+--------------+-----------------+--------------------+-------------------+--------+--------+---------+\n|       1| United States|         New York|      Store New York|                 10|   10001| 40.7128|  -74.006|\n|       2| United States|      Los Angeles|   Store Los Angeles|                  8|   90001| 34.0522|-118.2437|\n|       3| United States|          Chicago|       Store Chicago|                  9|   60601| 41.8781| -87.6298|\n|       4| United States|          Houston|       Store Houston|                 10|   77001| 29.7604| -95.3698|\n|       5| United States|          Phoenix|       Store Phoenix|                  9|   85001| 33.4484| -112.074|\n|       6|         China|         Shanghai|          Store 上海|                  8|  200000| 31.2304| 121.4737|\n|       7|         China|          Beijing|          Store 北京|                 10|  100000| 39.9042| 116.4074|\n|       8|         China|        Guangzhou|          Store 广州|                 10|  510000| 23.1291| 113.2644|\n|       9|         China|         Shenzhen|          Store 深圳|                  9|  518000| 22.5429| 114.0596|\n|      10|         China|        Chongqing|          Store 重庆|                 10|  400000| 29.5638| 106.5505|\n|      11|   Deutschland|           Berlin|        Store Berlin|                  9|   10115| 52.5125|  13.3903|\n|      12|   Deutschland|          Hamburg|       Store Hamburg|                 10|   20095| 53.5503|    9.992|\n|      13|   Deutschland|          München|       Store München|                  9|   80331| 48.1371|  11.5763|\n|      14|   Deutschland|             Köln|          Store Köln|                  8|   50667|  50.938|   6.9578|\n|      15|   Deutschland|Frankfurt am Main|Store Frankfurt a...|                 10|   60311| 50.1145|   8.6785|\n|      16|United Kingdom|           London|        Store London|                  7| EC2P 2E| 51.5072|  -0.1275|\n|      17|United Kingdom|       Birmingham|    Store Birmingham|                  9|  B1 1AA| 52.4862|  -1.8904|\n|      18|United Kingdom|          Glasgow|       Store Glasgow|                  7|  G1 1AA|  55.858|   -4.259|\n|      19|United Kingdom|        Liverpool|     Store Liverpool|                  9|  L1 1AA| 53.4084|  -2.9916|\n|      20|United Kingdom|          Bristol|       Store Bristol|                  7| BS1 1AA| 51.4545|  -2.5879|\n+--------+--------------+-----------------+--------------------+-------------------+--------+--------+---------+\nonly showing top 20 rows\n\n"
     ]
    }
   ],
   "source": [
    "from translate import Translator\n",
    "from pyspark.sql.functions import col, when, lit\n",
    "from pyspark.sql.types import StringType\n",
    "\n",
    "# Get distinct Chinese city names\n",
    "chinese_cities = [row.City for row in stores_df.filter(col(\"Country\") == \"China\").select(\"City\").distinct().collect()]\n",
    "\n",
    "# Create translation map without asyncio\n",
    "city_translation_map = {}\n",
    "for city in chinese_cities:\n",
    "    try:\n",
    "        translator = Translator(to_lang=\"en\", from_lang=\"zh\")\n",
    "        translated_text = translator.translate(city)\n",
    "        city_translation_map[city] = translated_text\n",
    "    except Exception as e:\n",
    "        print(f\"Error translating {city}: {e}\")\n",
    "        # If translation fails, keep the original name\n",
    "        city_translation_map[city] = city\n",
    "\n",
    "# Create a mapping function\n",
    "def translate_city(city):\n",
    "    return city_translation_map.get(city, city)\n",
    "\n",
    "# Register as UDF\n",
    "translate_city_udf = udf(translate_city, StringType())\n",
    "\n",
    "# Apply the translation\n",
    "stores_df = stores_df.withColumn(\n",
    "    \"City\",\n",
    "    when(col(\"Country\") == \"China\", translate_city_udf(col(\"City\")))\n",
    "    .otherwise(col(\"City\"))\n",
    ")\n",
    "\n",
    "# Show results\n",
    "stores_df.show()"
   ]
  },
  {
   "cell_type": "code",
   "execution_count": 0,
   "metadata": {
    "application/vnd.databricks.v1+cell": {
     "cellMetadata": {
      "byteLimit": 2048000,
      "rowLimit": 10000
     },
     "inputWidgets": {},
     "nuid": "fdf7f933-66cb-43a9-92c0-925dd925b6f0",
     "showTitle": false,
     "tableResultSettingsMap": {},
     "title": ""
    }
   },
   "outputs": [
    {
     "output_type": "stream",
     "name": "stdout",
     "output_type": "stream",
     "text": [
      "root\n |-- Store ID: integer (nullable = true)\n |-- Country: string (nullable = true)\n |-- City: string (nullable = true)\n |-- Number of Employees: integer (nullable = true)\n |-- ZIP Code: string (nullable = true)\n |-- Latitude: double (nullable = true)\n |-- Longitude: double (nullable = true)\n\n"
     ]
    }
   ],
   "source": [
    "#drop store name column\n",
    "stores_df = stores_df.drop(col(\"Store Name\"))\n",
    "stores_df.printSchema()"
   ]
  },
  {
   "cell_type": "code",
   "execution_count": 0,
   "metadata": {
    "application/vnd.databricks.v1+cell": {
     "cellMetadata": {
      "byteLimit": 2048000,
      "rowLimit": 10000
     },
     "inputWidgets": {},
     "nuid": "17c5187c-daf2-4c18-8e8b-5c692945a1be",
     "showTitle": false,
     "tableResultSettingsMap": {},
     "title": ""
    }
   },
   "outputs": [
    {
     "output_type": "stream",
     "name": "stdout",
     "output_type": "stream",
     "text": [
      "+-------------------+----+-----------+----------+----+-------+----------+--------+-------------------+--------+----------+--------+-----------+--------+---------------+--------------------+----------------+--------------+-------------+\n|         Invoice ID|Line|Customer ID|Product ID|Size|  Color|Unit Price|Quantity|               Date|Discount|Line Total|Store ID|Employee ID|Currency|Currency Symbol|                 SKU|Transaction Type|Payment Method|Invoice Total|\n+-------------------+----+-----------+----------+----+-------+----------+--------+-------------------+--------+----------+--------+-----------+--------+---------------+--------------------+----------------+--------------+-------------+\n|INV-US-001-03558761|   1|      47162|       485|   M|   NULL|      80.5|       1|2023-01-01 15:42:00|     0.0|      80.5|       1|          7|     USD|              $|          MASU485-M-|            Sale|          Cash|        126.7|\n|INV-US-001-03558761|   2|      47162|      2779|   G|   NULL|      31.5|       1|2023-01-01 15:42:00|     0.4|      18.9|       1|          7|     USD|              $|         CHCO2779-G-|            Sale|          Cash|        126.7|\n|INV-US-001-03558761|   3|      47162|        64|   M|NEUTRAL|      45.5|       1|2023-01-01 15:42:00|     0.4|      27.3|       1|          7|     USD|              $|    MACO64-M-NEUTRAL|            Sale|          Cash|        126.7|\n|INV-US-001-03558762|   1|      10142|       131|   M|   BLUE|      70.0|       1|2023-01-01 20:04:00|     0.4|      42.0|       1|          6|     USD|              $|      FECO131-M-BLUE|            Sale|          Cash|         77.0|\n|INV-US-001-03558762|   2|      10142|       716|   L|  WHITE|      26.0|       1|2023-01-01 20:04:00|     0.0|      26.0|       1|          6|     USD|              $|     MAT-716-L-WHITE|            Sale|          Cash|         77.0|\n|INV-US-001-03558762|   3|      10142|       644|NULL|   NULL|       9.0|       1|2023-01-01 20:04:00|     0.0|       9.0|       1|          6|     USD|              $|           MAAC644--|            Sale|          Cash|         77.0|\n|INV-US-001-03558763|   1|       8286|      1395|   M|   NULL|      95.5|       1|2023-01-01 20:47:00|     0.0|      95.5|       1|          6|     USD|              $|         MASU1395-M-|            Sale|          Cash|         95.5|\n|INV-US-001-03558764|   1|       1968|      1208|   M| SILVER|      75.0|       1|2023-01-01 08:06:00|     0.4|      45.0|       1|          9|     USD|              $|   MACO1208-M-SILVER|            Sale|   Credit Card|         72.3|\n|INV-US-001-03558764|   2|       1968|      2639|   M|  WHITE|      45.5|       1|2023-01-01 08:06:00|     0.4|      27.3|       1|          9|     USD|              $|    MASW2639-M-WHITE|            Sale|   Credit Card|         72.3|\n|INV-US-001-03558765|   1|     265336|      1822|   M|   NULL|      32.0|       1|2023-01-01 17:25:00|     0.4|      19.2|       1|         12|     USD|              $|         FESW1822-M-|            Sale|   Credit Card|         19.2|\n|INV-US-001-03558766|   1|      18139|      2147|   M|   NULL|      16.0|       1|2023-01-01 10:57:00|     0.0|      16.0|       1|         12|     USD|              $|         MASH2147-M-|            Sale|   Credit Card|         16.0|\n|INV-US-001-03558767|   1|      14906|      2924| XXL|NEUTRAL|      54.0|       1|2023-01-01 20:54:00|     0.4|      32.4|       1|         13|     USD|              $|MACO2924-XXL-NEUTRAL|            Sale|   Credit Card|         32.4|\n|INV-US-001-03558768|   1|      64777|       951|   M|   NULL|      17.0|       1|2023-01-01 19:08:00|     0.0|      17.0|       1|          7|     USD|              $|          MASH951-M-|            Sale|   Credit Card|         17.0|\n|INV-US-001-03558769|   1|      47155|      1770|   M|   NULL|      34.0|       1|2023-01-01 08:26:00|     0.4|      20.4|       1|         13|     USD|              $|         FESW1770-M-|            Sale|   Credit Card|         20.4|\n|INV-US-001-03558770|   1|        840|      1884|  XL|   NULL|      58.0|       1|2023-01-01 16:09:00|     0.4|      34.8|       1|         11|     USD|              $|        MACO1884-XL-|            Sale|   Credit Card|         34.8|\n|RET-US-001-03558764|   1|       1968|      1208|   M| SILVER|      75.0|       1|2023-01-01 00:00:00|     0.0|     -45.0|       1|          9|     USD|              $|   MACO1208-M-SILVER|          Return|   Credit Card|        -72.3|\n|RET-US-001-03558764|   2|       1968|      2639|   M|  WHITE|      45.5|       1|2023-01-01 00:00:00|     0.0|     -27.3|       1|          9|     USD|              $|    MASW2639-M-WHITE|          Return|   Credit Card|        -72.3|\n|INV-US-001-03558771|   1|      34586|       636|   M|   NULL|      70.0|       1|2023-01-01 11:12:00|     0.4|      42.0|       1|          6|     USD|              $|          MACO636-M-|            Sale|   Credit Card|         42.0|\n|INV-US-001-03558772|   1|       2597|       235|   M|  GREEN|      35.0|       1|2023-01-01 20:27:00|     0.4|      21.0|       1|         13|     USD|              $|     FECO235-M-GREEN|            Sale|          Cash|         21.0|\n|INV-US-001-03558773|   1|      62769|      2768|   L|    RED|      61.0|       1|2023-01-01 19:37:00|     0.4|      36.6|       1|         12|     USD|              $|      MACO2768-L-RED|            Sale|          Cash|        122.6|\n+-------------------+----+-----------+----------+----+-------+----------+--------+-------------------+--------+----------+--------+-----------+--------+---------------+--------------------+----------------+--------------+-------------+\nonly showing top 20 rows\n\n"
     ]
    }
   ],
   "source": [
    "#load transactions data\n",
    "transactions_df = spark.read.format(\"csv\") \\\n",
    "    .option(\"header\", \"true\") \\\n",
    "    .option(\"inferSchema\", \"true\") \\\n",
    "    .load(\"abfss://rawdatav1@retailstoragev1.dfs.core.windows.net/transactions.csv\")\n",
    "\n",
    "# Display the first few rows\n",
    "transactions_df.show()"
   ]
  },
  {
   "cell_type": "code",
   "execution_count": 0,
   "metadata": {
    "application/vnd.databricks.v1+cell": {
     "cellMetadata": {
      "byteLimit": 2048000,
      "rowLimit": 10000
     },
     "inputWidgets": {},
     "nuid": "3e7f87ac-4d5e-4623-b7f8-24daf649f359",
     "showTitle": false,
     "tableResultSettingsMap": {},
     "title": ""
    }
   },
   "outputs": [
    {
     "output_type": "stream",
     "name": "stdout",
     "output_type": "stream",
     "text": [
      "+----------+----+-----------+----------+------+-------+----------+--------+----+--------+----------+--------+-----------+--------+---------------+---+----------------+--------------+-------------+\n|Invoice ID|Line|Customer ID|Product ID|  Size|  Color|Unit Price|Quantity|Date|Discount|Line Total|Store ID|Employee ID|Currency|Currency Symbol|SKU|Transaction Type|Payment Method|Invoice Total|\n+----------+----+-----------+----------+------+-------+----------+--------+----+--------+----------+--------+-----------+--------+---------------+---+----------------+--------------+-------------+\n|         0|   0|          0|         0|413102|4350783|         0|       0|   0|       0|         0|       0|          0|       0|              0|  0|               0|             0|            0|\n+----------+----+-----------+----------+------+-------+----------+--------+----+--------+----------+--------+-----------+--------+---------------+---+----------------+--------------+-------------+\n\n"
     ]
    }
   ],
   "source": [
    "#check for null values\n",
    "null_counts = transactions_df.select([sum(col(c).isNull().cast(\"int\")).alias(c) for c in transactions_df.columns])\n",
    "null_counts.show()\n"
   ]
  },
  {
   "cell_type": "code",
   "execution_count": 0,
   "metadata": {
    "application/vnd.databricks.v1+cell": {
     "cellMetadata": {
      "byteLimit": 2048000,
      "rowLimit": 10000
     },
     "inputWidgets": {},
     "nuid": "dcd76885-8bd0-4513-aadd-82ac9e637200",
     "showTitle": false,
     "tableResultSettingsMap": {},
     "title": ""
    }
   },
   "outputs": [
    {
     "output_type": "execute_result",
     "data": {
      "text/plain": [
       "6416827"
      ]
     },
     "execution_count": 128,
     "metadata": {},
     "output_type": "execute_result"
    }
   ],
   "source": [
    "transactions_df.select(\"Invoice ID\").count()"
   ]
  },
  {
   "cell_type": "code",
   "execution_count": 0,
   "metadata": {
    "application/vnd.databricks.v1+cell": {
     "cellMetadata": {
      "byteLimit": 2048000,
      "rowLimit": 10000
     },
     "inputWidgets": {},
     "nuid": "9760269b-1fe0-4a4b-8dc4-582a89fb16bf",
     "showTitle": false,
     "tableResultSettingsMap": {},
     "title": ""
    }
   },
   "outputs": [],
   "source": [
    "#dropping Color column\n",
    "transactions_df = transactions_df.drop(col(\"Color\"))"
   ]
  },
  {
   "cell_type": "code",
   "execution_count": 0,
   "metadata": {
    "application/vnd.databricks.v1+cell": {
     "cellMetadata": {
      "byteLimit": 2048000,
      "rowLimit": 10000
     },
     "inputWidgets": {},
     "nuid": "ef379374-44d7-4f15-86b6-3a1ea7050593",
     "showTitle": false,
     "tableResultSettingsMap": {},
     "title": ""
    }
   },
   "outputs": [],
   "source": [
    "#replacing null values in size col \n",
    "transactions_df = transactions_df.na.fill(\"Unknown\")"
   ]
  },
  {
   "cell_type": "code",
   "execution_count": 0,
   "metadata": {
    "application/vnd.databricks.v1+cell": {
     "cellMetadata": {
      "byteLimit": 2048000,
      "rowLimit": 10000
     },
     "inputWidgets": {},
     "nuid": "b401e047-416f-40b5-929b-001635be14fc",
     "showTitle": false,
     "tableResultSettingsMap": {},
     "title": ""
    }
   },
   "outputs": [
    {
     "output_type": "stream",
     "name": "stdout",
     "output_type": "stream",
     "text": [
      "+----------+----+-----------+----------+----+----------+--------+----+--------+----------+--------+-----------+--------+---------------+---+----------------+--------------+-------------+\n|Invoice ID|Line|Customer ID|Product ID|Size|Unit Price|Quantity|Date|Discount|Line Total|Store ID|Employee ID|Currency|Currency Symbol|SKU|Transaction Type|Payment Method|Invoice Total|\n+----------+----+-----------+----------+----+----------+--------+----+--------+----------+--------+-----------+--------+---------------+---+----------------+--------------+-------------+\n|         0|   0|          0|         0|   0|         0|       0|   0|       0|         0|       0|          0|       0|              0|  0|               0|             0|            0|\n+----------+----+-----------+----------+----+----------+--------+----+--------+----------+--------+-----------+--------+---------------+---+----------------+--------------+-------------+\n\n"
     ]
    }
   ],
   "source": [
    "#check for null values\n",
    "null_counts = transactions_df.select([sum(col(c).isNull().cast(\"int\")).alias(c) for c in transactions_df.columns])\n",
    "null_counts.show()\n"
   ]
  },
  {
   "cell_type": "code",
   "execution_count": 0,
   "metadata": {
    "application/vnd.databricks.v1+cell": {
     "cellMetadata": {
      "byteLimit": 2048000,
      "rowLimit": 10000
     },
     "inputWidgets": {},
     "nuid": "df18c976-ea44-491d-9b23-d3309b8c28a9",
     "showTitle": false,
     "tableResultSettingsMap": {},
     "title": ""
    }
   },
   "outputs": [
    {
     "output_type": "stream",
     "name": "stdout",
     "output_type": "stream",
     "text": [
      "+-------------------+----+-----------+----------+----+----------+--------+-------------------+--------+----------+--------+-----------+--------+---------------+----------------+----------------+--------------+-------------+\n|         Invoice ID|Line|Customer ID|Product ID|Size|Unit Price|Quantity|               Date|Discount|Line Total|Store ID|Employee ID|Currency|Currency Symbol|             SKU|Transaction Type|Payment Method|Invoice Total|\n+-------------------+----+-----------+----------+----+----------+--------+-------------------+--------+----------+--------+-----------+--------+---------------+----------------+----------------+--------------+-------------+\n|INV-US-001-03558761|   1|      47162|       485|   M|      80.5|       1|2023-01-01 15:42:00|     0.0|      80.5|       1|          7|     USD|              $|      MASU485-M-|            Sale|          Cash|        126.7|\n|INV-US-001-03558761|   2|      47162|      2779|   G|      31.5|       1|2023-01-01 15:42:00|     0.4|      18.9|       1|          7|     USD|              $|     CHCO2779-G-|            Sale|          Cash|        126.7|\n|INV-US-001-03558761|   3|      47162|        64|   M|      45.5|       1|2023-01-01 15:42:00|     0.4|      27.3|       1|          7|     USD|              $|MACO64-M-NEUTRAL|            Sale|          Cash|        126.7|\n+-------------------+----+-----------+----------+----+----------+--------+-------------------+--------+----------+--------+-----------+--------+---------------+----------------+----------------+--------------+-------------+\nonly showing top 3 rows\n\n"
     ]
    }
   ],
   "source": [
    "transactions_df.show(3)"
   ]
  },
  {
   "cell_type": "code",
   "execution_count": 0,
   "metadata": {
    "application/vnd.databricks.v1+cell": {
     "cellMetadata": {
      "byteLimit": 2048000,
      "rowLimit": 10000
     },
     "inputWidgets": {},
     "nuid": "297678a1-fa85-48cb-80c8-29a8ee5b9a2b",
     "showTitle": false,
     "tableResultSettingsMap": {},
     "title": ""
    }
   },
   "outputs": [
    {
     "output_type": "stream",
     "name": "stdout",
     "output_type": "stream",
     "text": [
      "root\n |-- Customer ID: integer (nullable = true)\n |-- Name: string (nullable = true)\n |-- Email: string (nullable = true)\n |-- Telephone: string (nullable = true)\n |-- City: string (nullable = true)\n |-- Country: string (nullable = true)\n |-- Gender: string (nullable = true)\n |-- Date Of Birth: date (nullable = true)\n |-- Job Title: string (nullable = true)\n\n"
     ]
    }
   ],
   "source": [
    "customers_df.printSchema() "
   ]
  },
  {
   "cell_type": "code",
   "execution_count": 0,
   "metadata": {
    "application/vnd.databricks.v1+cell": {
     "cellMetadata": {
      "byteLimit": 2048000,
      "rowLimit": 10000
     },
     "inputWidgets": {},
     "nuid": "73440005-ff0d-400e-9979-a6f6f6d9c59b",
     "showTitle": false,
     "tableResultSettingsMap": {},
     "title": ""
    }
   },
   "outputs": [
    {
     "output_type": "stream",
     "name": "stdout",
     "output_type": "stream",
     "text": [
      "root\n |-- Product ID: integer (nullable = true)\n |-- Category: string (nullable = true)\n |-- Sub Category: string (nullable = true)\n |-- Description EN: string (nullable = true)\n |-- Color: string (nullable = true)\n |-- Sizes: string (nullable = true)\n |-- Production Cost: double (nullable = true)\n\n"
     ]
    }
   ],
   "source": [
    "products_df.printSchema() "
   ]
  },
  {
   "cell_type": "code",
   "execution_count": 0,
   "metadata": {
    "application/vnd.databricks.v1+cell": {
     "cellMetadata": {
      "byteLimit": 2048000,
      "rowLimit": 10000
     },
     "inputWidgets": {},
     "nuid": "cab98216-b995-4ce5-af9b-596cdd7ca8f6",
     "showTitle": false,
     "tableResultSettingsMap": {},
     "title": ""
    }
   },
   "outputs": [
    {
     "output_type": "stream",
     "name": "stdout",
     "output_type": "stream",
     "text": [
      "root\n |-- Employee ID: integer (nullable = true)\n |-- Store ID: integer (nullable = true)\n |-- Name: string (nullable = true)\n |-- Position: string (nullable = true)\n\n"
     ]
    }
   ],
   "source": [
    "employee_df.printSchema()"
   ]
  },
  {
   "cell_type": "code",
   "execution_count": 0,
   "metadata": {
    "application/vnd.databricks.v1+cell": {
     "cellMetadata": {
      "byteLimit": 2048000,
      "rowLimit": 10000
     },
     "inputWidgets": {},
     "nuid": "f1bce195-86a9-4cfb-8931-693dfc606dba",
     "showTitle": false,
     "tableResultSettingsMap": {},
     "title": ""
    }
   },
   "outputs": [
    {
     "output_type": "stream",
     "name": "stdout",
     "output_type": "stream",
     "text": [
      "root\n |-- Start: date (nullable = true)\n |-- End: date (nullable = true)\n |-- Discont: double (nullable = true)\n |-- Category: string (nullable = true)\n |-- Sub Category: string (nullable = true)\n |-- Occasion: string (nullable = true)\n\n"
     ]
    }
   ],
   "source": [
    "discounts_df.printSchema()"
   ]
  },
  {
   "cell_type": "code",
   "execution_count": 0,
   "metadata": {
    "application/vnd.databricks.v1+cell": {
     "cellMetadata": {
      "byteLimit": 2048000,
      "rowLimit": 10000
     },
     "inputWidgets": {},
     "nuid": "2c750784-264d-43ce-801e-23316a446b7a",
     "showTitle": false,
     "tableResultSettingsMap": {},
     "title": ""
    }
   },
   "outputs": [
    {
     "output_type": "stream",
     "name": "stdout",
     "output_type": "stream",
     "text": [
      "root\n |-- Store ID: integer (nullable = true)\n |-- Country: string (nullable = true)\n |-- City: string (nullable = true)\n |-- Number of Employees: integer (nullable = true)\n |-- ZIP Code: string (nullable = true)\n |-- Latitude: double (nullable = true)\n |-- Longitude: double (nullable = true)\n\n"
     ]
    }
   ],
   "source": [
    "stores_df.printSchema()"
   ]
  },
  {
   "cell_type": "code",
   "execution_count": 0,
   "metadata": {
    "application/vnd.databricks.v1+cell": {
     "cellMetadata": {
      "byteLimit": 2048000,
      "rowLimit": 10000
     },
     "inputWidgets": {},
     "nuid": "bb63275e-c2fe-4076-a410-6e9f9af20177",
     "showTitle": false,
     "tableResultSettingsMap": {},
     "title": ""
    }
   },
   "outputs": [
    {
     "output_type": "stream",
     "name": "stdout",
     "output_type": "stream",
     "text": [
      "root\n |-- Employee ID: integer (nullable = true)\n |-- Store ID: integer (nullable = true)\n |-- Name: string (nullable = true)\n |-- Position: string (nullable = true)\n\n"
     ]
    }
   ],
   "source": [
    "employee_df.printSchema()"
   ]
  },
  {
   "cell_type": "code",
   "execution_count": 0,
   "metadata": {
    "application/vnd.databricks.v1+cell": {
     "cellMetadata": {
      "byteLimit": 2048000,
      "rowLimit": 10000
     },
     "inputWidgets": {},
     "nuid": "1c3af861-4783-4843-a717-249dac73766f",
     "showTitle": false,
     "tableResultSettingsMap": {},
     "title": ""
    }
   },
   "outputs": [
    {
     "output_type": "stream",
     "name": "stdout",
     "output_type": "stream",
     "text": [
      "root\n |-- Invoice ID: string (nullable = false)\n |-- Line: integer (nullable = true)\n |-- Customer ID: integer (nullable = true)\n |-- Product ID: integer (nullable = true)\n |-- Size: string (nullable = false)\n |-- Unit Price: double (nullable = true)\n |-- Quantity: integer (nullable = true)\n |-- Date: timestamp (nullable = true)\n |-- Discount: double (nullable = true)\n |-- Line Total: double (nullable = true)\n |-- Store ID: integer (nullable = true)\n |-- Employee ID: integer (nullable = true)\n |-- Currency: string (nullable = false)\n |-- Currency Symbol: string (nullable = false)\n |-- SKU: string (nullable = false)\n |-- Transaction Type: string (nullable = false)\n |-- Payment Method: string (nullable = false)\n |-- Invoice Total: double (nullable = true)\n\n"
     ]
    }
   ],
   "source": [
    "transactions_df.printSchema()"
   ]
  },
  {
   "cell_type": "code",
   "execution_count": 0,
   "metadata": {
    "application/vnd.databricks.v1+cell": {
     "cellMetadata": {
      "byteLimit": 2048000,
      "rowLimit": 10000
     },
     "inputWidgets": {},
     "nuid": "49c3195d-2861-4494-b8cf-e261faae34b1",
     "showTitle": false,
     "tableResultSettingsMap": {},
     "title": ""
    }
   },
   "outputs": [
    {
     "output_type": "stream",
     "name": "stdout",
     "output_type": "stream",
     "text": [
      "+----+\n|Line|\n+----+\n|   1|\n|   6|\n|   3|\n|   5|\n|   4|\n|   7|\n|   2|\n+----+\n\n"
     ]
    }
   ],
   "source": [
    "cnt=transactions_df.select(col(\"Line\")).distinct().show()\n",
    "cnt"
   ]
  },
  {
   "cell_type": "code",
   "execution_count": 0,
   "metadata": {
    "application/vnd.databricks.v1+cell": {
     "cellMetadata": {
      "byteLimit": 2048000,
      "rowLimit": 10000
     },
     "inputWidgets": {},
     "nuid": "14477130-0bfc-401b-b0dc-3c0603dffc6c",
     "showTitle": false,
     "tableResultSettingsMap": {},
     "title": ""
    }
   },
   "outputs": [
    {
     "output_type": "stream",
     "name": "stdout",
     "output_type": "stream",
     "text": [
      "+--------+\n|Currency|\n+--------+\n|     USD|\n|     CNY|\n|     EUR|\n|     GBP|\n+--------+\n\n"
     ]
    }
   ],
   "source": [
    "transactions_df.select(col(\"Currency\")).distinct().show()"
   ]
  },
  {
   "cell_type": "code",
   "execution_count": 0,
   "metadata": {
    "application/vnd.databricks.v1+cell": {
     "cellMetadata": {
      "byteLimit": 2048000,
      "rowLimit": 10000
     },
     "inputWidgets": {},
     "nuid": "e20e88d4-3cb2-44d6-b174-6f2071034350",
     "showTitle": false,
     "tableResultSettingsMap": {},
     "title": ""
    }
   },
   "outputs": [
    {
     "output_type": "stream",
     "name": "stdout",
     "output_type": "stream",
     "text": [
      "+---------------+\n|Currency Symbol|\n+---------------+\n|              $|\n|              ¥|\n|              €|\n|              £|\n+---------------+\n\n"
     ]
    }
   ],
   "source": [
    "transactions_df.select(col(\"Currency Symbol\")).distinct().show()\n",
    "transactions_df=transactions_df.drop(col(\"Currency Symbol\"))"
   ]
  },
  {
   "cell_type": "code",
   "execution_count": 0,
   "metadata": {
    "application/vnd.databricks.v1+cell": {
     "cellMetadata": {
      "byteLimit": 2048000,
      "rowLimit": 10000
     },
     "inputWidgets": {},
     "nuid": "090570ce-b650-4758-899d-5b89c97afb37",
     "showTitle": false,
     "tableResultSettingsMap": {},
     "title": ""
    }
   },
   "outputs": [
    {
     "output_type": "stream",
     "name": "stdout",
     "output_type": "stream",
     "text": [
      "root\n |-- Invoice ID: string (nullable = false)\n |-- Line: integer (nullable = true)\n |-- Customer ID: integer (nullable = true)\n |-- Product ID: integer (nullable = true)\n |-- Size: string (nullable = false)\n |-- Unit Price: double (nullable = true)\n |-- Quantity: integer (nullable = true)\n |-- Date: timestamp (nullable = true)\n |-- Discount: double (nullable = true)\n |-- Line Total: double (nullable = true)\n |-- Store ID: integer (nullable = true)\n |-- Employee ID: integer (nullable = true)\n |-- Currency: string (nullable = false)\n |-- SKU: string (nullable = false)\n |-- Transaction Type: string (nullable = false)\n |-- Payment Method: string (nullable = false)\n |-- Invoice Total: double (nullable = true)\n\n"
     ]
    }
   ],
   "source": [
    "transactions_df.printSchema()"
   ]
  },
  {
   "cell_type": "code",
   "execution_count": 0,
   "metadata": {
    "application/vnd.databricks.v1+cell": {
     "cellMetadata": {
      "byteLimit": 2048000,
      "rowLimit": 10000
     },
     "inputWidgets": {},
     "nuid": "8cbdc03b-e1a5-4789-9853-fbd2ca00f28e",
     "showTitle": false,
     "tableResultSettingsMap": {},
     "title": ""
    }
   },
   "outputs": [
    {
     "output_type": "stream",
     "name": "stdout",
     "output_type": "stream",
     "text": [
      "+--------+-------------------+----+-----------+----------+-------+----------+--------+-------------------+--------+----------+-----------+--------+--------------------+----------------+--------------+-------------+-------------+\n|Store ID|         Invoice ID|Line|Customer ID|Product ID|   Size|Unit Price|Quantity|               Date|Discount|Line Total|Employee ID|Currency|                 SKU|Transaction Type|Payment Method|Invoice Total|      Country|\n+--------+-------------------+----+-----------+----------+-------+----------+--------+-------------------+--------+----------+-----------+--------+--------------------+----------------+--------------+-------------+-------------+\n|       1|INV-US-001-03558761|   1|      47162|       485|      M|      80.5|       1|2023-01-01 15:42:00|     0.0|      80.5|          7|     USD|          MASU485-M-|            Sale|          Cash|        126.7|United States|\n|       1|INV-US-001-03558761|   2|      47162|      2779|      G|      31.5|       1|2023-01-01 15:42:00|     0.4|      18.9|          7|     USD|         CHCO2779-G-|            Sale|          Cash|        126.7|United States|\n|       1|INV-US-001-03558761|   3|      47162|        64|      M|      45.5|       1|2023-01-01 15:42:00|     0.4|      27.3|          7|     USD|    MACO64-M-NEUTRAL|            Sale|          Cash|        126.7|United States|\n|       1|INV-US-001-03558762|   1|      10142|       131|      M|      70.0|       1|2023-01-01 20:04:00|     0.4|      42.0|          6|     USD|      FECO131-M-BLUE|            Sale|          Cash|         77.0|United States|\n|       1|INV-US-001-03558762|   2|      10142|       716|      L|      26.0|       1|2023-01-01 20:04:00|     0.0|      26.0|          6|     USD|     MAT-716-L-WHITE|            Sale|          Cash|         77.0|United States|\n|       1|INV-US-001-03558762|   3|      10142|       644|Unknown|       9.0|       1|2023-01-01 20:04:00|     0.0|       9.0|          6|     USD|           MAAC644--|            Sale|          Cash|         77.0|United States|\n|       1|INV-US-001-03558763|   1|       8286|      1395|      M|      95.5|       1|2023-01-01 20:47:00|     0.0|      95.5|          6|     USD|         MASU1395-M-|            Sale|          Cash|         95.5|United States|\n|       1|INV-US-001-03558764|   1|       1968|      1208|      M|      75.0|       1|2023-01-01 08:06:00|     0.4|      45.0|          9|     USD|   MACO1208-M-SILVER|            Sale|   Credit Card|         72.3|United States|\n|       1|INV-US-001-03558764|   2|       1968|      2639|      M|      45.5|       1|2023-01-01 08:06:00|     0.4|      27.3|          9|     USD|    MASW2639-M-WHITE|            Sale|   Credit Card|         72.3|United States|\n|       1|INV-US-001-03558765|   1|     265336|      1822|      M|      32.0|       1|2023-01-01 17:25:00|     0.4|      19.2|         12|     USD|         FESW1822-M-|            Sale|   Credit Card|         19.2|United States|\n|       1|INV-US-001-03558766|   1|      18139|      2147|      M|      16.0|       1|2023-01-01 10:57:00|     0.0|      16.0|         12|     USD|         MASH2147-M-|            Sale|   Credit Card|         16.0|United States|\n|       1|INV-US-001-03558767|   1|      14906|      2924|    XXL|      54.0|       1|2023-01-01 20:54:00|     0.4|      32.4|         13|     USD|MACO2924-XXL-NEUTRAL|            Sale|   Credit Card|         32.4|United States|\n|       1|INV-US-001-03558768|   1|      64777|       951|      M|      17.0|       1|2023-01-01 19:08:00|     0.0|      17.0|          7|     USD|          MASH951-M-|            Sale|   Credit Card|         17.0|United States|\n|       1|INV-US-001-03558769|   1|      47155|      1770|      M|      34.0|       1|2023-01-01 08:26:00|     0.4|      20.4|         13|     USD|         FESW1770-M-|            Sale|   Credit Card|         20.4|United States|\n|       1|INV-US-001-03558770|   1|        840|      1884|     XL|      58.0|       1|2023-01-01 16:09:00|     0.4|      34.8|         11|     USD|        MACO1884-XL-|            Sale|   Credit Card|         34.8|United States|\n|       1|RET-US-001-03558764|   1|       1968|      1208|      M|      75.0|       1|2023-01-01 00:00:00|     0.0|     -45.0|          9|     USD|   MACO1208-M-SILVER|          Return|   Credit Card|        -72.3|United States|\n|       1|RET-US-001-03558764|   2|       1968|      2639|      M|      45.5|       1|2023-01-01 00:00:00|     0.0|     -27.3|          9|     USD|    MASW2639-M-WHITE|          Return|   Credit Card|        -72.3|United States|\n|       1|INV-US-001-03558771|   1|      34586|       636|      M|      70.0|       1|2023-01-01 11:12:00|     0.4|      42.0|          6|     USD|          MACO636-M-|            Sale|   Credit Card|         42.0|United States|\n|       1|INV-US-001-03558772|   1|       2597|       235|      M|      35.0|       1|2023-01-01 20:27:00|     0.4|      21.0|         13|     USD|     FECO235-M-GREEN|            Sale|          Cash|         21.0|United States|\n|       1|INV-US-001-03558773|   1|      62769|      2768|      L|      61.0|       1|2023-01-01 19:37:00|     0.4|      36.6|         12|     USD|      MACO2768-L-RED|            Sale|          Cash|        122.6|United States|\n+--------+-------------------+----+-----------+----------+-------+----------+--------+-------------------+--------+----------+-----------+--------+--------------------+----------------+--------------+-------------+-------------+\nonly showing top 20 rows\n\n"
     ]
    }
   ],
   "source": [
    "joined_df = transactions_df.join(stores_df.select(col(\"Country\"),col(\"Store ID\")), on=\"Store ID\", how=\"inner\")\n",
    "\n",
    "# Show the result\n",
    "joined_df.show()"
   ]
  },
  {
   "cell_type": "code",
   "execution_count": 0,
   "metadata": {
    "application/vnd.databricks.v1+cell": {
     "cellMetadata": {
      "byteLimit": 2048000,
      "rowLimit": 10000
     },
     "inputWidgets": {},
     "nuid": "b7341d87-f1e9-4fc7-9dfe-118d7db7d0a3",
     "showTitle": false,
     "tableResultSettingsMap": {},
     "title": ""
    }
   },
   "outputs": [
    {
     "output_type": "stream",
     "name": "stdout",
     "output_type": "stream",
     "text": [
      "root\n |-- Store ID: integer (nullable = true)\n |-- Invoice ID: string (nullable = false)\n |-- Line: integer (nullable = true)\n |-- Customer ID: integer (nullable = true)\n |-- Product ID: integer (nullable = true)\n |-- Size: string (nullable = false)\n |-- Unit Price: double (nullable = true)\n |-- Quantity: integer (nullable = true)\n |-- Date: timestamp (nullable = true)\n |-- Discount: double (nullable = true)\n |-- Line Total: double (nullable = true)\n |-- Employee ID: integer (nullable = true)\n |-- Currency: string (nullable = false)\n |-- SKU: string (nullable = false)\n |-- Transaction Type: string (nullable = false)\n |-- Payment Method: string (nullable = false)\n |-- Invoice Total: double (nullable = true)\n |-- Country: string (nullable = true)\n\n"
     ]
    }
   ],
   "source": [
    "joined_df.printSchema()"
   ]
  },
  {
   "cell_type": "code",
   "execution_count": 0,
   "metadata": {
    "application/vnd.databricks.v1+cell": {
     "cellMetadata": {
      "byteLimit": 2048000,
      "rowLimit": 10000
     },
     "inputWidgets": {},
     "nuid": "6af6ea53-0f64-475c-a670-08ef52641bb2",
     "showTitle": false,
     "tableResultSettingsMap": {},
     "title": ""
    }
   },
   "outputs": [
    {
     "output_type": "stream",
     "name": "stdout",
     "output_type": "stream",
     "text": [
      "Attempting to connect to storage...\nConnection successful!\nFound 1 items\n"
     ]
    },
    {
     "output_type": "display_data",
     "data": {
      "text/html": [
       "<style scoped>\n",
       "  .table-result-container {\n",
       "    max-height: 300px;\n",
       "    overflow: auto;\n",
       "  }\n",
       "  table, th, td {\n",
       "    border: 1px solid black;\n",
       "    border-collapse: collapse;\n",
       "  }\n",
       "  th, td {\n",
       "    padding: 5px;\n",
       "  }\n",
       "  th {\n",
       "    text-align: left;\n",
       "  }\n",
       "</style><div class='table-result-container'><table class='table-result'><thead style='background-color: white'><tr><th>path</th><th>name</th><th>size</th><th>modificationTime</th></tr></thead><tbody><tr><td>abfss://transformedcustomersv1@retailstoragev1.dfs.core.windows.net/transformedcustomersv1/</td><td>transformedcustomersv1/</td><td>0</td><td>1742762564000</td></tr></tbody></table></div>"
      ]
     },
     "metadata": {
      "application/vnd.databricks.v1+output": {
       "addedWidgets": {},
       "aggData": [],
       "aggError": "",
       "aggOverflow": false,
       "aggSchema": [],
       "aggSeriesLimitReached": false,
       "aggType": "",
       "arguments": {},
       "columnCustomDisplayInfos": {},
       "data": [
        [
         "abfss://transformedcustomersv1@retailstoragev1.dfs.core.windows.net/transformedcustomersv1/",
         "transformedcustomersv1/",
         0,
         1742762564000
        ]
       ],
       "datasetInfos": [],
       "dbfsResultPath": null,
       "isJsonSchema": true,
       "metadata": {},
       "overflow": false,
       "plotOptions": {
        "customPlotOptions": {},
        "displayType": "table",
        "pivotAggregation": null,
        "pivotColumns": null,
        "xColumns": null,
        "yColumns": null
       },
       "removedWidgets": [],
       "schema": [
        {
         "metadata": "{}",
         "name": "path",
         "type": "\"string\""
        },
        {
         "metadata": "{}",
         "name": "name",
         "type": "\"string\""
        },
        {
         "metadata": "{}",
         "name": "size",
         "type": "\"long\""
        },
        {
         "metadata": "{}",
         "name": "modificationTime",
         "type": "\"long\""
        }
       ],
       "type": "table"
      }
     },
     "output_type": "display_data"
    },
    {
     "output_type": "stream",
     "name": "stdout",
     "output_type": "stream",
     "text": [
      "Code execution completed\n"
     ]
    }
   ],
   "source": [
    "transactions_df=joined_df\n",
    "# Make sure there are no extra spaces or characters in your key\n",
    "storage_account_name = \"retailstoragev1\"\n",
    "container_name = \"transformedcustomersv1\"\n",
    "storage_account_key = \"PhgCS7e6Sis0d8hNKmiChdVoCUB+zyzJsZyfitbldYuGl2gbe0WnHU/s9avvn74sZOuwBVaBsZ64+AStORDGQw==\"  # Replace with your actual key\n",
    "\n",
    "# Clear any previous configurations (important!)\n",
    "spark.conf.unset(f\"fs.azure.account.auth.type.{storage_account_name}.dfs.core.windows.net\")\n",
    "spark.conf.unset(f\"fs.azure.account.oauth.provider.type.{storage_account_name}.dfs.core.windows.net\")\n",
    "spark.conf.unset(f\"fs.azure.account.oauth2.client.id.{storage_account_name}.dfs.core.windows.net\")\n",
    "\n",
    "# Set the key configuration\n",
    "spark.conf.set(f\"fs.azure.account.key.{storage_account_name}.dfs.core.windows.net\", storage_account_key)\n",
    "\n",
    "# Try accessing with explicit print statements\n",
    "print(\"Attempting to connect to storage...\")\n",
    "\n",
    "try:\n",
    "    result = dbutils.fs.ls(f\"abfss://{container_name}@{storage_account_name}.dfs.core.windows.net/\")\n",
    "    print(\"Connection successful!\")\n",
    "    print(f\"Found {len(result)} items\")\n",
    "    display(result)\n",
    "except Exception as e:\n",
    "    print(f\"Error occurred: {str(e)}\")\n",
    "    \n",
    "print(\"Code execution completed\")\n"
   ]
  },
  {
   "cell_type": "code",
   "execution_count": 0,
   "metadata": {
    "application/vnd.databricks.v1+cell": {
     "cellMetadata": {
      "byteLimit": 2048000,
      "rowLimit": 10000
     },
     "inputWidgets": {},
     "nuid": "b024e929-0dff-4640-bf3c-10a14958b43f",
     "showTitle": false,
     "tableResultSettingsMap": {},
     "title": ""
    }
   },
   "outputs": [],
   "source": [
    "# Define the output path\n",
    "output_path = f\"abfss://{container_name}@{storage_account_name}.dfs.core.windows.net/transformedtransactionsv1/\"\n",
    "\n",
    "# Write the DataFrame to ADLS Gen2, partitioned by the 'Country' column\n",
    "transactions_df.write \\\n",
    "    .option(\"header\", \"true\") \\\n",
    "        .partitionBy(\"Country\") \\\n",
    "            .mode(\"overwrite\") \\\n",
    "                .csv(output_path)"
   ]
  },
  {
   "cell_type": "code",
   "execution_count": 0,
   "metadata": {
    "application/vnd.databricks.v1+cell": {
     "cellMetadata": {
      "byteLimit": 2048000,
      "rowLimit": 10000
     },
     "inputWidgets": {},
     "nuid": "92c09f6a-27f2-4ec1-b282-4ce96ed7155b",
     "showTitle": false,
     "tableResultSettingsMap": {},
     "title": ""
    }
   },
   "outputs": [],
   "source": [
    "#write other dataframes to the destination folders\n",
    "#stores table\n",
    "output_path = f\"abfss://{container_name}@{storage_account_name}.dfs.core.windows.net/transformedstoresv1/\"\n",
    "stores_df.write\\\n",
    "    .option(\"header\", \"true\") \\\n",
    "    .mode(\"overwrite\")\\\n",
    "        .csv(output_path)\n",
    "#employees table\n",
    "output_path = f\"abfss://{container_name}@{storage_account_name}.dfs.core.windows.net/transformedemployeesv1/\"\n",
    "employee_df.write\\\n",
    "    .option(\"header\", \"true\") \\\n",
    "    .mode(\"overwrite\")\\\n",
    "        .csv(output_path)\n",
    "#discounts table\n",
    "output_path = f\"abfss://{container_name}@{storage_account_name}.dfs.core.windows.net/transformeddiscountsv1/\"\n",
    "discounts_df.write\\\n",
    "    .option(\"header\", \"true\") \\\n",
    "    .mode(\"overwrite\")\\\n",
    "        .csv(output_path)\n",
    "#products table\n",
    "output_path = f\"abfss://{container_name}@{storage_account_name}.dfs.core.windows.net/transformedproductsv1/\"\n",
    "products_df.write\\\n",
    "    .option(\"header\", \"true\") \\\n",
    "    .mode(\"overwrite\")\\\n",
    "        .csv(output_path)"
   ]
  },
  {
   "cell_type": "code",
   "execution_count": 0,
   "metadata": {
    "application/vnd.databricks.v1+cell": {
     "cellMetadata": {},
     "inputWidgets": {},
     "nuid": "6fc23df0-1fc8-4a2a-a835-94c6ebf2def5",
     "showTitle": false,
     "tableResultSettingsMap": {},
     "title": ""
    }
   },
   "outputs": [],
   "source": []
  },
  {
   "cell_type": "code",
   "execution_count": 0,
   "metadata": {
    "application/vnd.databricks.v1+cell": {
     "cellMetadata": {},
     "inputWidgets": {},
     "nuid": "6183f462-322d-40b4-91dc-7e6c22f6d882",
     "showTitle": false,
     "tableResultSettingsMap": {},
     "title": ""
    }
   },
   "outputs": [],
   "source": []
  },
  {
   "cell_type": "code",
   "execution_count": 0,
   "metadata": {
    "application/vnd.databricks.v1+cell": {
     "cellMetadata": {},
     "inputWidgets": {},
     "nuid": "08c8f8f6-10fc-45af-a0ec-45ceb1358584",
     "showTitle": false,
     "tableResultSettingsMap": {},
     "title": ""
    }
   },
   "outputs": [],
   "source": []
  }
 ],
 "metadata": {
  "application/vnd.databricks.v1+notebook": {
   "computePreferences": null,
   "dashboards": [],
   "environmentMetadata": {
    "base_environment": "",
    "environment_version": "2"
   },
   "language": "python",
   "notebookMetadata": {
    "pythonIndentUnit": 4
   },
   "notebookName": "RetailTransformation",
   "widgets": {}
  },
  "language_info": {
   "name": "python"
  }
 },
 "nbformat": 4,
 "nbformat_minor": 0
}